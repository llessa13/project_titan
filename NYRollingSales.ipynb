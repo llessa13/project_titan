{
 "cells": [
  {
   "cell_type": "markdown",
   "metadata": {},
   "source": [
    "# STAR PERFORMERS"
   ]
  },
  {
   "cell_type": "code",
   "execution_count": null,
   "metadata": {},
   "outputs": [],
   "source": [
    "# Dependencies and Setup\n",
    "import matplotlib.pyplot as plt\n",
    "import pandas as pd\n",
    "import numpy as np\n",
    "import requests\n",
    "import time\n",
    "from bs4 import BeautifulSoup\n",
    "import xmltodict\n",
    "from pprint import pprint\n",
    "import os\n",
    "import csv\n",
    "import datetime\n",
    "from api_keys import z_keys"
   ]
  },
  {
   "cell_type": "code",
   "execution_count": null,
   "metadata": {},
   "outputs": [],
   "source": [
    "ny18_df = pd.read_csv(\"Files/2018NYSales.csv\")"
   ]
  },
  {
   "cell_type": "code",
   "execution_count": null,
   "metadata": {
    "scrolled": false
   },
   "outputs": [],
   "source": [
    "len(ny18_df)"
   ]
  },
  {
   "cell_type": "code",
   "execution_count": null,
   "metadata": {},
   "outputs": [],
   "source": [
    "ny18_df = ny18_df.rename(columns={' SALE PRICE ': 'SALE PRICE'})"
   ]
  },
  {
   "cell_type": "code",
   "execution_count": null,
   "metadata": {},
   "outputs": [],
   "source": [
    "ny18_df.columns"
   ]
  },
  {
   "cell_type": "code",
   "execution_count": null,
   "metadata": {
    "scrolled": true
   },
   "outputs": [],
   "source": [
    "ny18_df.describe()"
   ]
  },
  {
   "cell_type": "code",
   "execution_count": null,
   "metadata": {},
   "outputs": [],
   "source": [
    "ny18_df[\"ADDRESS\"] = ny18_df[\"ADDRESS\"].str.strip()\n",
    "ny18_df['ADDRESS'] = ny18_df['ADDRESS'].str.split(' ').apply(lambda x: '+'.join(x))\n",
    "ny18_df.count()"
   ]
  },
  {
   "cell_type": "code",
   "execution_count": null,
   "metadata": {},
   "outputs": [],
   "source": [
    "ny18_df[\"SALE PRICE\"] = ny18_df.loc[:,\"SALE PRICE\"].replace('[\\$,]', '', regex=True)\n",
    "ny18_df[\"SALE PRICE\"] = ny18_df.loc[:,\"SALE PRICE\"].replace('[-,]', '0', regex=True)"
   ]
  },
  {
   "cell_type": "code",
   "execution_count": null,
   "metadata": {},
   "outputs": [],
   "source": [
    "# Removing home prices less than 100K to avoid a bias after preliminary research on what these lower sale prices rep.\n",
    "# like: Internal family sale transfer at $0, garage sale etc.\n",
    "\n",
    "ny18_df = ny18_df[ny18_df['SALE PRICE'].astype(float) > 100000]\n",
    "ny18_df = ny18_df.drop_duplicates(subset=['ADDRESS'], keep = 'first')"
   ]
  },
  {
   "cell_type": "code",
   "execution_count": null,
   "metadata": {},
   "outputs": [],
   "source": [
    "len(ny18_df)"
   ]
  },
  {
   "cell_type": "code",
   "execution_count": null,
   "metadata": {},
   "outputs": [],
   "source": [
    "ny18_df.head()"
   ]
  },
  {
   "cell_type": "code",
   "execution_count": null,
   "metadata": {},
   "outputs": [],
   "source": [
    "# response = requests.get(f\"https://www.zillow.com/webservice/GetDeepSearchResults.htm?zws-id={z_keys}&address=635+west+42+street&citystatezip=10036&rentzestimate=true\")"
   ]
  },
  {
   "cell_type": "code",
   "execution_count": null,
   "metadata": {},
   "outputs": [],
   "source": [
    "# print(response)"
   ]
  },
  {
   "cell_type": "code",
   "execution_count": null,
   "metadata": {},
   "outputs": [],
   "source": [
    "#Using BeautifulSoup to convert XML text to pretty format\n",
    "# soup = BeautifulSoup(response.text)\n",
    "print(soup.prettify())"
   ]
  },
  {
   "cell_type": "code",
   "execution_count": null,
   "metadata": {
    "scrolled": false
   },
   "outputs": [],
   "source": [
    "doc = xmltodict.parse(response.text)['SearchResults:searchresults']['response']['results']['result']\n",
    "# len(doc)"
   ]
  },
  {
   "cell_type": "code",
   "execution_count": null,
   "metadata": {},
   "outputs": [],
   "source": [
    "def check_data(address):\n",
    "    return (address.get('rentzestimate')) and (address.get('lastSoldPrice'))"
   ]
  },
  {
   "cell_type": "code",
   "execution_count": null,
   "metadata": {},
   "outputs": [],
   "source": [
    "def need_rent_estimate(address):\n",
    "    return (address.get('rentzestimate')) and not(address.get('lastSoldPrice'))"
   ]
  },
  {
   "cell_type": "code",
   "execution_count": null,
   "metadata": {},
   "outputs": [],
   "source": [
    "def need_sale_estimate(address):\n",
    "    return (not(address.get('rentzestimate')) and (address.get('lastSoldPrice')))"
   ]
  },
  {
   "cell_type": "code",
   "execution_count": null,
   "metadata": {},
   "outputs": [],
   "source": [
    "def get_estimate(address, zipcode):\n",
    "    print(\"Entering get_estimate\")\n",
    "    rent = address['rentzestimate']['amount']['#text']\n",
    "    sold = address['lastSoldPrice']['#text']\n",
    "    sold_year = datetime.datetime.strptime(address['lastSoldDate'], '%m/%d/%Y').date().year\n",
    "#     zestimate=address['zestimate']['amount']['#text']\n",
    "    sqft = address['finishedSqFt']\n",
    "    address = address['address']['street']\n",
    "    var = 0\n",
    "    return pd.Series({'address':address, 'zipcode':zipcode, 'sold':sold, 'rent':rent, 'sold year':sold_year, 'sqft':sqft, 'var':var})     "
   ]
  },
  {
   "cell_type": "code",
   "execution_count": null,
   "metadata": {},
   "outputs": [],
   "source": [
    "def get_rent_estimate(address, zipcode):\n",
    "    print(\"Entering get_rent_estimate\")\n",
    "    rent = address['rentzestimate']['amount']['#text']\n",
    "    address = address['address']['street']\n",
    "    var = 2\n",
    "    return pd.Series({'address':address, 'zipcode':zipcode, 'rent':rent, 'var':var})"
   ]
  },
  {
   "cell_type": "code",
   "execution_count": null,
   "metadata": {},
   "outputs": [],
   "source": [
    "def get_property_estimate(address, zipcode):\n",
    "    print(\"Entering get_property_estimate\")\n",
    "    sold = address['lastSoldPrice']['#text']\n",
    "    sold_year = datetime.datetime.strptime(address['lastSoldDate'], '%m/%d/%Y').date().year\n",
    "#     zestimate=address['zestimate']['amount']['#text']\n",
    "    sqft = address['finishedSqFt']\n",
    "    address = address['address']['street']\n",
    "    var = 1\n",
    "    return pd.Series({'address':address, 'zipcode':zipcode, 'sold':sold, 'sold year':sold_year, 'sqft':sqft, 'var':var}) "
   ]
  },
  {
   "cell_type": "code",
   "execution_count": null,
   "metadata": {
    "scrolled": true
   },
   "outputs": [],
   "source": [
    "ny18_df = ny18_df.reset_index()\n",
    "ny18_df.head()"
   ]
  },
  {
   "cell_type": "code",
   "execution_count": null,
   "metadata": {
    "scrolled": true
   },
   "outputs": [],
   "source": [
    "ny18_df.loc[0,'BLOCK']"
   ]
  },
  {
   "cell_type": "code",
   "execution_count": null,
   "metadata": {
    "scrolled": true
   },
   "outputs": [],
   "source": [
    "block =[]\n",
    "lot=[]\n",
    "ny_sale_amt =[]\n",
    "ny_sale_date=[]\n",
    "series = []\n",
    "curdoc={}\n",
    "counter = 0\n",
    "\n",
    "for address, zipcode in zip(ny18_df['ADDRESS'],ny18_df['ZIP CODE']):\n",
    "    counter +=1\n",
    "    try:\n",
    "       i = 0\n",
    "       print(f\"https://www.zillow.com/webservice/GetDeepSearchResults.htm?zws-id={z_keys}&address={address}&citystatezip={zipcode}&rentzestimate=true counter={counter}\")\n",
    "       response_main = requests.get(f\"https://www.zillow.com/webservice/GetDeepSearchResults.htm?zws-id={z_keys}&address={address}&citystatezip={zipcode}&rentzestimate=true\")\n",
    "#        block=ny18_Update['BLOCK']\n",
    "#        lot=ny18_Update['LOT']\n",
    "#        sale_amt=ny18_Update['SALE PRICE']\n",
    "#        sale_date=ny18_Update['SALE DATE']\n",
    "       doc = xmltodict.parse(response_main.text, force_list={'result': True})['SearchResults:searchresults']['response']['results']['result']\n",
    "\n",
    "       while i < len(doc):\n",
    "           print(f\"Record {i}: {doc[i]['address']['street']}\")\n",
    "           \n",
    "           if check_data(doc[i]):\n",
    "               new_series = get_estimate(doc[i], zipcode)\n",
    "               series.append(new_series)\n",
    "           elif need_rent_estimate(doc[i]):\n",
    "               new_series = get_rent_estimate(doc[i], zipcode)\n",
    "               series.append(new_series)\n",
    "           elif need_sale_estimate(doc[i]):\n",
    "               new_series = get_property_estimate(doc[i], zipcode)\n",
    "               series.append(new_series)\n",
    "           else:\n",
    "               print(\"NO ESTIMATED FUNCTIONS ENTERED!!\")\n",
    "                 \n",
    "           i+=1\n",
    "                 \n",
    "           print(f'End of record {i}')\n",
    "           print('-------------------------------\\n')\n",
    "       time.sleep(1)\n",
    "       df = pd.concat(series, 1,sort=True).T\n",
    "    except Exception as e: print(e)"
   ]
  },
  {
   "cell_type": "code",
   "execution_count": null,
   "metadata": {},
   "outputs": [],
   "source": [
    "# xmltodict.parse(response_main.text)['SearchResults:searchresults'].keys()"
   ]
  },
  {
   "cell_type": "code",
   "execution_count": null,
   "metadata": {
    "scrolled": true
   },
   "outputs": [],
   "source": [
    "df.count()"
   ]
  },
  {
   "cell_type": "code",
   "execution_count": null,
   "metadata": {},
   "outputs": [],
   "source": [
    "df.to_csv(\"OutputData.csv\")"
   ]
  },
  {
   "cell_type": "code",
   "execution_count": null,
   "metadata": {},
   "outputs": [],
   "source": [
    "# response1 = requests.get(f\"https://www.zillow.com/webservice/GetDeepSearchResults.htm?{z_keys}&address=520+WEST+23RD+STREET,+12D&citystatezip=10011&rentzestimate=true\")\n",
    "# doc1 = xmltodict.parse(response1.text, force_list={'result': True})['SearchResults:searchresults']['response']['results']['result']\n",
    "\n",
    "# d2 = datetime.datetime.strptime(doc1[0]['lastSoldDate'], '%m/%d/%Y').date()\n",
    "\n",
    "# d1 = date(2018, 1, 1)\n",
    "# d3 = date(2018, 12, 31)\n",
    "\n",
    "# if d1 < d2 < d3:\n",
    "#     print(f\"True {d3} > {d2} > {d1}\")\n",
    "# else:\n",
    "#     print(\"False\")"
   ]
  },
  {
   "cell_type": "code",
   "execution_count": null,
   "metadata": {},
   "outputs": [],
   "source": []
  }
 ],
 "metadata": {
  "kernelspec": {
   "display_name": "Python 3",
   "language": "python",
   "name": "python3"
  },
  "language_info": {
   "codemirror_mode": {
    "name": "ipython",
    "version": 3
   },
   "file_extension": ".py",
   "mimetype": "text/x-python",
   "name": "python",
   "nbconvert_exporter": "python",
   "pygments_lexer": "ipython3",
   "version": "3.6.7"
  }
 },
 "nbformat": 4,
 "nbformat_minor": 2
}
