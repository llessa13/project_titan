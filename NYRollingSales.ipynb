{
 "cells": [
  {
   "cell_type": "markdown",
   "metadata": {},
   "source": [
    "# STAR PERFORMERS"
   ]
  },
  {
   "cell_type": "code",
   "execution_count": 1,
   "metadata": {},
   "outputs": [],
   "source": [
    "# Dependencies and Setup\n",
    "import matplotlib.pyplot as plt\n",
    "import pandas as pd\n",
    "import numpy as np\n",
    "import requests\n",
    "import time\n",
    "from bs4 import BeautifulSoup\n",
    "import xmltodict\n",
    "from pprint import pprint\n",
    "import os\n",
    "import csv\n",
    "from api_keys import z_keys"
   ]
  },
  {
   "cell_type": "code",
   "execution_count": 2,
   "metadata": {},
   "outputs": [],
   "source": [
    "ny18_df = pd.read_csv(\"Files/2018NYSales.csv\")"
   ]
  },
  {
   "cell_type": "code",
   "execution_count": 3,
   "metadata": {
    "scrolled": false
   },
   "outputs": [
    {
     "data": {
      "text/plain": [
       "16369"
      ]
     },
     "execution_count": 3,
     "metadata": {},
     "output_type": "execute_result"
    }
   ],
   "source": [
    "len(ny18_df)"
   ]
  },
  {
   "cell_type": "code",
   "execution_count": 5,
   "metadata": {},
   "outputs": [],
   "source": [
    "ny18_df = ny18_df.rename(columns={' SALE PRICE ': 'SALE PRICE'})"
   ]
  },
  {
   "cell_type": "code",
   "execution_count": 6,
   "metadata": {},
   "outputs": [
    {
     "data": {
      "text/plain": [
       "Index(['BOROUGH', 'NEIGHBORHOOD', 'BUILDING CLASS CATEGORY',\n",
       "       'TAX CLASS AT PRESENT', 'BLOCK', 'LOT', 'EASE-MENT',\n",
       "       'BUILDING CLASS AT PRESENT', 'ADDRESS', 'APARTMENT NUMBER', 'ZIP CODE',\n",
       "       'RESIDENTIAL UNITS', 'COMMERCIAL UNITS', 'TOTAL UNITS',\n",
       "       'LAND SQUARE FEET', 'GROSS SQUARE FEET', 'YEAR BUILT',\n",
       "       'TAX CLASS AT TIME OF SALE', 'BUILDING CLASS AT TIME OF SALE',\n",
       "       'SALE PRICE', 'SALE DATE'],\n",
       "      dtype='object')"
      ]
     },
     "execution_count": 6,
     "metadata": {},
     "output_type": "execute_result"
    }
   ],
   "source": [
    "ny18_df.columns"
   ]
  },
  {
   "cell_type": "code",
   "execution_count": null,
   "metadata": {
    "scrolled": true
   },
   "outputs": [],
   "source": [
    "ny18_df.describe()"
   ]
  },
  {
   "cell_type": "code",
   "execution_count": 7,
   "metadata": {},
   "outputs": [
    {
     "data": {
      "text/plain": [
       "BOROUGH                           16369\n",
       "NEIGHBORHOOD                      16369\n",
       "BUILDING CLASS CATEGORY           16369\n",
       "TAX CLASS AT PRESENT              16369\n",
       "BLOCK                             16369\n",
       "LOT                               16369\n",
       "EASE-MENT                         16369\n",
       "BUILDING CLASS AT PRESENT         16369\n",
       "ADDRESS                           16369\n",
       "APARTMENT NUMBER                  16369\n",
       "ZIP CODE                          16369\n",
       "RESIDENTIAL UNITS                 16369\n",
       "COMMERCIAL UNITS                  16369\n",
       "TOTAL UNITS                       16369\n",
       "LAND SQUARE FEET                  16369\n",
       "GROSS SQUARE FEET                 16369\n",
       "YEAR BUILT                        16369\n",
       "TAX CLASS AT TIME OF SALE         16369\n",
       "BUILDING CLASS AT TIME OF SALE    16369\n",
       "SALE PRICE                        16369\n",
       "SALE DATE                         16369\n",
       "dtype: int64"
      ]
     },
     "execution_count": 7,
     "metadata": {},
     "output_type": "execute_result"
    }
   ],
   "source": [
    "ny18_df[\"ADDRESS\"] = ny18_df[\"ADDRESS\"].str.strip()\n",
    "ny18_df['ADDRESS'] = ny18_df['ADDRESS'].str.split(' ').apply(lambda x: '+'.join(x))\n",
    "ny18_df.count()"
   ]
  },
  {
   "cell_type": "code",
   "execution_count": 8,
   "metadata": {},
   "outputs": [],
   "source": [
    "ny18_df[\"SALE PRICE\"] = ny18_df.loc[:,\"SALE PRICE\"].replace('[\\$,]', '', regex=True)\n",
    "ny18_df[\"SALE PRICE\"] = ny18_df.loc[:,\"SALE PRICE\"].replace('[-,]', '0', regex=True)"
   ]
  },
  {
   "cell_type": "code",
   "execution_count": 9,
   "metadata": {},
   "outputs": [],
   "source": [
    "# Removing home prices less than 100K to avoid a bias after preliminary research on what these lower sale prices rep.\n",
    "# like: Internal family sale transfer at $0, garage sale etc.\n",
    "\n",
    "ny18_df = ny18_df[ny18_df['SALE PRICE'].astype(float) > 100000]\n",
    "ny18_df = ny18_df.drop_duplicates(subset=['ADDRESS'], keep = 'first')"
   ]
  },
  {
   "cell_type": "code",
   "execution_count": 10,
   "metadata": {},
   "outputs": [
    {
     "data": {
      "text/plain": [
       "8951"
      ]
     },
     "execution_count": 10,
     "metadata": {},
     "output_type": "execute_result"
    }
   ],
   "source": [
    "len(ny18_df)"
   ]
  },
  {
   "cell_type": "code",
   "execution_count": 11,
   "metadata": {},
   "outputs": [
    {
     "data": {
      "text/html": [
       "<div>\n",
       "<style scoped>\n",
       "    .dataframe tbody tr th:only-of-type {\n",
       "        vertical-align: middle;\n",
       "    }\n",
       "\n",
       "    .dataframe tbody tr th {\n",
       "        vertical-align: top;\n",
       "    }\n",
       "\n",
       "    .dataframe thead th {\n",
       "        text-align: right;\n",
       "    }\n",
       "</style>\n",
       "<table border=\"1\" class=\"dataframe\">\n",
       "  <thead>\n",
       "    <tr style=\"text-align: right;\">\n",
       "      <th></th>\n",
       "      <th>BOROUGH</th>\n",
       "      <th>NEIGHBORHOOD</th>\n",
       "      <th>BUILDING CLASS CATEGORY</th>\n",
       "      <th>TAX CLASS AT PRESENT</th>\n",
       "      <th>BLOCK</th>\n",
       "      <th>LOT</th>\n",
       "      <th>EASE-MENT</th>\n",
       "      <th>BUILDING CLASS AT PRESENT</th>\n",
       "      <th>ADDRESS</th>\n",
       "      <th>APARTMENT NUMBER</th>\n",
       "      <th>...</th>\n",
       "      <th>RESIDENTIAL UNITS</th>\n",
       "      <th>COMMERCIAL UNITS</th>\n",
       "      <th>TOTAL UNITS</th>\n",
       "      <th>LAND SQUARE FEET</th>\n",
       "      <th>GROSS SQUARE FEET</th>\n",
       "      <th>YEAR BUILT</th>\n",
       "      <th>TAX CLASS AT TIME OF SALE</th>\n",
       "      <th>BUILDING CLASS AT TIME OF SALE</th>\n",
       "      <th>SALE PRICE</th>\n",
       "      <th>SALE DATE</th>\n",
       "    </tr>\n",
       "  </thead>\n",
       "  <tbody>\n",
       "    <tr>\n",
       "      <th>0</th>\n",
       "      <td>1</td>\n",
       "      <td>ALPHABET CITY</td>\n",
       "      <td>01 ONE FAMILY DWELLINGS</td>\n",
       "      <td>1</td>\n",
       "      <td>390</td>\n",
       "      <td>61</td>\n",
       "      <td></td>\n",
       "      <td>A4</td>\n",
       "      <td>189+EAST+7TH+STREET</td>\n",
       "      <td></td>\n",
       "      <td>...</td>\n",
       "      <td>1</td>\n",
       "      <td>0</td>\n",
       "      <td>1</td>\n",
       "      <td>987</td>\n",
       "      <td>2,183</td>\n",
       "      <td>1860</td>\n",
       "      <td>1</td>\n",
       "      <td>A4</td>\n",
       "      <td>4844809</td>\n",
       "      <td>5/22/2018</td>\n",
       "    </tr>\n",
       "    <tr>\n",
       "      <th>2</th>\n",
       "      <td>1</td>\n",
       "      <td>ALPHABET CITY</td>\n",
       "      <td>01 ONE FAMILY DWELLINGS</td>\n",
       "      <td>1</td>\n",
       "      <td>400</td>\n",
       "      <td>19</td>\n",
       "      <td></td>\n",
       "      <td>A4</td>\n",
       "      <td>526+EAST+5TH+STREET</td>\n",
       "      <td></td>\n",
       "      <td>...</td>\n",
       "      <td>1</td>\n",
       "      <td>0</td>\n",
       "      <td>1</td>\n",
       "      <td>1,883</td>\n",
       "      <td>5,200</td>\n",
       "      <td>1900</td>\n",
       "      <td>1</td>\n",
       "      <td>A4</td>\n",
       "      <td>6100000</td>\n",
       "      <td>12/3/2018</td>\n",
       "    </tr>\n",
       "    <tr>\n",
       "      <th>6</th>\n",
       "      <td>1</td>\n",
       "      <td>ALPHABET CITY</td>\n",
       "      <td>07 RENTALS - WALKUP APARTMENTS</td>\n",
       "      <td>2</td>\n",
       "      <td>379</td>\n",
       "      <td>37</td>\n",
       "      <td></td>\n",
       "      <td>C7</td>\n",
       "      <td>133+AVENUE+D</td>\n",
       "      <td></td>\n",
       "      <td>...</td>\n",
       "      <td>20</td>\n",
       "      <td>2</td>\n",
       "      <td>22</td>\n",
       "      <td>3,481</td>\n",
       "      <td>14,588</td>\n",
       "      <td>1930</td>\n",
       "      <td>2</td>\n",
       "      <td>C7</td>\n",
       "      <td>8300000</td>\n",
       "      <td>12/10/2018</td>\n",
       "    </tr>\n",
       "    <tr>\n",
       "      <th>7</th>\n",
       "      <td>1</td>\n",
       "      <td>ALPHABET CITY</td>\n",
       "      <td>07 RENTALS - WALKUP APARTMENTS</td>\n",
       "      <td>2</td>\n",
       "      <td>385</td>\n",
       "      <td>2</td>\n",
       "      <td></td>\n",
       "      <td>C7</td>\n",
       "      <td>21-23+AVENUE+B</td>\n",
       "      <td></td>\n",
       "      <td>...</td>\n",
       "      <td>12</td>\n",
       "      <td>4</td>\n",
       "      <td>16</td>\n",
       "      <td>4,186</td>\n",
       "      <td>10,588</td>\n",
       "      <td>1900</td>\n",
       "      <td>2</td>\n",
       "      <td>C7</td>\n",
       "      <td>10350000</td>\n",
       "      <td>9/7/2018</td>\n",
       "    </tr>\n",
       "    <tr>\n",
       "      <th>8</th>\n",
       "      <td>1</td>\n",
       "      <td>ALPHABET CITY</td>\n",
       "      <td>07 RENTALS - WALKUP APARTMENTS</td>\n",
       "      <td>2</td>\n",
       "      <td>389</td>\n",
       "      <td>18</td>\n",
       "      <td></td>\n",
       "      <td>C1</td>\n",
       "      <td>200+EAST+7TH+STREET</td>\n",
       "      <td></td>\n",
       "      <td>...</td>\n",
       "      <td>18</td>\n",
       "      <td>0</td>\n",
       "      <td>18</td>\n",
       "      <td>2,271</td>\n",
       "      <td>10,650</td>\n",
       "      <td>1910</td>\n",
       "      <td>2</td>\n",
       "      <td>C1</td>\n",
       "      <td>5000000</td>\n",
       "      <td>9/5/2018</td>\n",
       "    </tr>\n",
       "  </tbody>\n",
       "</table>\n",
       "<p>5 rows × 21 columns</p>\n",
       "</div>"
      ],
      "text/plain": [
       "   BOROUGH   NEIGHBORHOOD                      BUILDING CLASS CATEGORY  \\\n",
       "0        1  ALPHABET CITY  01 ONE FAMILY DWELLINGS                       \n",
       "2        1  ALPHABET CITY  01 ONE FAMILY DWELLINGS                       \n",
       "6        1  ALPHABET CITY  07 RENTALS - WALKUP APARTMENTS                \n",
       "7        1  ALPHABET CITY  07 RENTALS - WALKUP APARTMENTS                \n",
       "8        1  ALPHABET CITY  07 RENTALS - WALKUP APARTMENTS                \n",
       "\n",
       "  TAX CLASS AT PRESENT  BLOCK  LOT EASE-MENT BUILDING CLASS AT PRESENT  \\\n",
       "0                    1    390   61                                  A4   \n",
       "2                    1    400   19                                  A4   \n",
       "6                    2    379   37                                  C7   \n",
       "7                    2    385    2                                  C7   \n",
       "8                    2    389   18                                  C1   \n",
       "\n",
       "               ADDRESS APARTMENT NUMBER     ...      RESIDENTIAL UNITS  \\\n",
       "0  189+EAST+7TH+STREET                      ...                      1   \n",
       "2  526+EAST+5TH+STREET                      ...                      1   \n",
       "6         133+AVENUE+D                      ...                     20   \n",
       "7       21-23+AVENUE+B                      ...                     12   \n",
       "8  200+EAST+7TH+STREET                      ...                     18   \n",
       "\n",
       "   COMMERCIAL UNITS  TOTAL UNITS  LAND SQUARE FEET GROSS SQUARE FEET  \\\n",
       "0                 0            1               987             2,183   \n",
       "2                 0            1             1,883             5,200   \n",
       "6                 2           22             3,481            14,588   \n",
       "7                 4           16             4,186            10,588   \n",
       "8                 0           18             2,271            10,650   \n",
       "\n",
       "  YEAR BUILT  TAX CLASS AT TIME OF SALE  BUILDING CLASS AT TIME OF SALE  \\\n",
       "0       1860                          1                             A4    \n",
       "2       1900                          1                             A4    \n",
       "6       1930                          2                             C7    \n",
       "7       1900                          2                             C7    \n",
       "8       1910                          2                             C1    \n",
       "\n",
       "   SALE PRICE   SALE DATE  \n",
       "0    4844809    5/22/2018  \n",
       "2    6100000    12/3/2018  \n",
       "6    8300000   12/10/2018  \n",
       "7   10350000     9/7/2018  \n",
       "8    5000000     9/5/2018  \n",
       "\n",
       "[5 rows x 21 columns]"
      ]
     },
     "execution_count": 11,
     "metadata": {},
     "output_type": "execute_result"
    }
   ],
   "source": [
    "ny18_df.head()"
   ]
  },
  {
   "cell_type": "code",
   "execution_count": null,
   "metadata": {},
   "outputs": [],
   "source": [
    "response = requests.get(f\"https://www.zillow.com/webservice/GetDeepSearchResults.htm?zws-id={z_keys}&address=635+west+42+street&citystatezip=10036&rentzestimate=true\")"
   ]
  },
  {
   "cell_type": "code",
   "execution_count": null,
   "metadata": {},
   "outputs": [],
   "source": [
    "print(response)"
   ]
  },
  {
   "cell_type": "code",
   "execution_count": null,
   "metadata": {},
   "outputs": [],
   "source": [
    "#Using BeautifulSoup to convert XML text to pretty format\n",
    "soup = BeautifulSoup(response.text)\n",
    "print(soup.prettify())"
   ]
  },
  {
   "cell_type": "code",
   "execution_count": null,
   "metadata": {
    "scrolled": true
   },
   "outputs": [],
   "source": [
    "doc = xmltodict.parse(response.text)['SearchResults:searchresults']['response']['results']['result']\n",
    "len(doc)"
   ]
  },
  {
   "cell_type": "code",
   "execution_count": 12,
   "metadata": {},
   "outputs": [],
   "source": [
    "def need_rent_estimate(address):\n",
    "    return (address.get('rentzestimate')) and not(address.get('lastSoldPrice'))"
   ]
  },
  {
   "cell_type": "code",
   "execution_count": 13,
   "metadata": {},
   "outputs": [],
   "source": [
    "def need_sale_estimate(address):\n",
    "    return (not(address.get('rentzestimate')) and (address.get('lastSoldPrice')))"
   ]
  },
  {
   "cell_type": "code",
   "execution_count": 14,
   "metadata": {},
   "outputs": [],
   "source": [
    "def get_rent_estimate(address):\n",
    "    print(\"Entering get_rent_estimate\")\n",
    "    rent = address['rentzestimate']['amount']['#text']\n",
    "    address = address['address']['street']\n",
    "#     zipcode = address['address']['zipcode']\n",
    "    var = 2\n",
    "#     return pd.Series({'rent':rent, 'address':address,'zipcode':zipcode,'var':var})\n",
    "    return pd.Series({'rent':rent, 'address':address,'var':var})"
   ]
  },
  {
   "cell_type": "code",
   "execution_count": 15,
   "metadata": {},
   "outputs": [],
   "source": [
    "def get_property_estimate(address):\n",
    "    print(\"Entering get_property_estimate\")\n",
    "    sold = address['lastSoldPrice']['#text']\n",
    "    sold_date = address['lastSoldDate']\n",
    "#     zestimate=address['zestimate']['amount']['#text']\n",
    "    sqft = address['finishedSqFt']\n",
    "    address = address['address']['street']\n",
    "#     zipcode = address['address']['zipcode']\n",
    "    var = 1\n",
    "    return pd.Series({'sold':sold, 'var':var}) "
   ]
  },
  {
   "cell_type": "code",
   "execution_count": 16,
   "metadata": {
    "scrolled": true
   },
   "outputs": [
    {
     "data": {
      "text/html": [
       "<div>\n",
       "<style scoped>\n",
       "    .dataframe tbody tr th:only-of-type {\n",
       "        vertical-align: middle;\n",
       "    }\n",
       "\n",
       "    .dataframe tbody tr th {\n",
       "        vertical-align: top;\n",
       "    }\n",
       "\n",
       "    .dataframe thead th {\n",
       "        text-align: right;\n",
       "    }\n",
       "</style>\n",
       "<table border=\"1\" class=\"dataframe\">\n",
       "  <thead>\n",
       "    <tr style=\"text-align: right;\">\n",
       "      <th></th>\n",
       "      <th>index</th>\n",
       "      <th>BOROUGH</th>\n",
       "      <th>NEIGHBORHOOD</th>\n",
       "      <th>BUILDING CLASS CATEGORY</th>\n",
       "      <th>TAX CLASS AT PRESENT</th>\n",
       "      <th>BLOCK</th>\n",
       "      <th>LOT</th>\n",
       "      <th>EASE-MENT</th>\n",
       "      <th>BUILDING CLASS AT PRESENT</th>\n",
       "      <th>ADDRESS</th>\n",
       "      <th>...</th>\n",
       "      <th>RESIDENTIAL UNITS</th>\n",
       "      <th>COMMERCIAL UNITS</th>\n",
       "      <th>TOTAL UNITS</th>\n",
       "      <th>LAND SQUARE FEET</th>\n",
       "      <th>GROSS SQUARE FEET</th>\n",
       "      <th>YEAR BUILT</th>\n",
       "      <th>TAX CLASS AT TIME OF SALE</th>\n",
       "      <th>BUILDING CLASS AT TIME OF SALE</th>\n",
       "      <th>SALE PRICE</th>\n",
       "      <th>SALE DATE</th>\n",
       "    </tr>\n",
       "  </thead>\n",
       "  <tbody>\n",
       "    <tr>\n",
       "      <th>0</th>\n",
       "      <td>0</td>\n",
       "      <td>1</td>\n",
       "      <td>ALPHABET CITY</td>\n",
       "      <td>01 ONE FAMILY DWELLINGS</td>\n",
       "      <td>1</td>\n",
       "      <td>390</td>\n",
       "      <td>61</td>\n",
       "      <td></td>\n",
       "      <td>A4</td>\n",
       "      <td>189+EAST+7TH+STREET</td>\n",
       "      <td>...</td>\n",
       "      <td>1</td>\n",
       "      <td>0</td>\n",
       "      <td>1</td>\n",
       "      <td>987</td>\n",
       "      <td>2,183</td>\n",
       "      <td>1860</td>\n",
       "      <td>1</td>\n",
       "      <td>A4</td>\n",
       "      <td>4844809</td>\n",
       "      <td>5/22/2018</td>\n",
       "    </tr>\n",
       "    <tr>\n",
       "      <th>1</th>\n",
       "      <td>2</td>\n",
       "      <td>1</td>\n",
       "      <td>ALPHABET CITY</td>\n",
       "      <td>01 ONE FAMILY DWELLINGS</td>\n",
       "      <td>1</td>\n",
       "      <td>400</td>\n",
       "      <td>19</td>\n",
       "      <td></td>\n",
       "      <td>A4</td>\n",
       "      <td>526+EAST+5TH+STREET</td>\n",
       "      <td>...</td>\n",
       "      <td>1</td>\n",
       "      <td>0</td>\n",
       "      <td>1</td>\n",
       "      <td>1,883</td>\n",
       "      <td>5,200</td>\n",
       "      <td>1900</td>\n",
       "      <td>1</td>\n",
       "      <td>A4</td>\n",
       "      <td>6100000</td>\n",
       "      <td>12/3/2018</td>\n",
       "    </tr>\n",
       "    <tr>\n",
       "      <th>2</th>\n",
       "      <td>6</td>\n",
       "      <td>1</td>\n",
       "      <td>ALPHABET CITY</td>\n",
       "      <td>07 RENTALS - WALKUP APARTMENTS</td>\n",
       "      <td>2</td>\n",
       "      <td>379</td>\n",
       "      <td>37</td>\n",
       "      <td></td>\n",
       "      <td>C7</td>\n",
       "      <td>133+AVENUE+D</td>\n",
       "      <td>...</td>\n",
       "      <td>20</td>\n",
       "      <td>2</td>\n",
       "      <td>22</td>\n",
       "      <td>3,481</td>\n",
       "      <td>14,588</td>\n",
       "      <td>1930</td>\n",
       "      <td>2</td>\n",
       "      <td>C7</td>\n",
       "      <td>8300000</td>\n",
       "      <td>12/10/2018</td>\n",
       "    </tr>\n",
       "    <tr>\n",
       "      <th>3</th>\n",
       "      <td>7</td>\n",
       "      <td>1</td>\n",
       "      <td>ALPHABET CITY</td>\n",
       "      <td>07 RENTALS - WALKUP APARTMENTS</td>\n",
       "      <td>2</td>\n",
       "      <td>385</td>\n",
       "      <td>2</td>\n",
       "      <td></td>\n",
       "      <td>C7</td>\n",
       "      <td>21-23+AVENUE+B</td>\n",
       "      <td>...</td>\n",
       "      <td>12</td>\n",
       "      <td>4</td>\n",
       "      <td>16</td>\n",
       "      <td>4,186</td>\n",
       "      <td>10,588</td>\n",
       "      <td>1900</td>\n",
       "      <td>2</td>\n",
       "      <td>C7</td>\n",
       "      <td>10350000</td>\n",
       "      <td>9/7/2018</td>\n",
       "    </tr>\n",
       "    <tr>\n",
       "      <th>4</th>\n",
       "      <td>8</td>\n",
       "      <td>1</td>\n",
       "      <td>ALPHABET CITY</td>\n",
       "      <td>07 RENTALS - WALKUP APARTMENTS</td>\n",
       "      <td>2</td>\n",
       "      <td>389</td>\n",
       "      <td>18</td>\n",
       "      <td></td>\n",
       "      <td>C1</td>\n",
       "      <td>200+EAST+7TH+STREET</td>\n",
       "      <td>...</td>\n",
       "      <td>18</td>\n",
       "      <td>0</td>\n",
       "      <td>18</td>\n",
       "      <td>2,271</td>\n",
       "      <td>10,650</td>\n",
       "      <td>1910</td>\n",
       "      <td>2</td>\n",
       "      <td>C1</td>\n",
       "      <td>5000000</td>\n",
       "      <td>9/5/2018</td>\n",
       "    </tr>\n",
       "  </tbody>\n",
       "</table>\n",
       "<p>5 rows × 22 columns</p>\n",
       "</div>"
      ],
      "text/plain": [
       "   index  BOROUGH   NEIGHBORHOOD                      BUILDING CLASS CATEGORY  \\\n",
       "0      0        1  ALPHABET CITY  01 ONE FAMILY DWELLINGS                       \n",
       "1      2        1  ALPHABET CITY  01 ONE FAMILY DWELLINGS                       \n",
       "2      6        1  ALPHABET CITY  07 RENTALS - WALKUP APARTMENTS                \n",
       "3      7        1  ALPHABET CITY  07 RENTALS - WALKUP APARTMENTS                \n",
       "4      8        1  ALPHABET CITY  07 RENTALS - WALKUP APARTMENTS                \n",
       "\n",
       "  TAX CLASS AT PRESENT  BLOCK  LOT EASE-MENT BUILDING CLASS AT PRESENT  \\\n",
       "0                    1    390   61                                  A4   \n",
       "1                    1    400   19                                  A4   \n",
       "2                    2    379   37                                  C7   \n",
       "3                    2    385    2                                  C7   \n",
       "4                    2    389   18                                  C1   \n",
       "\n",
       "               ADDRESS     ...     RESIDENTIAL UNITS  COMMERCIAL UNITS  \\\n",
       "0  189+EAST+7TH+STREET     ...                     1                 0   \n",
       "1  526+EAST+5TH+STREET     ...                     1                 0   \n",
       "2         133+AVENUE+D     ...                    20                 2   \n",
       "3       21-23+AVENUE+B     ...                    12                 4   \n",
       "4  200+EAST+7TH+STREET     ...                    18                 0   \n",
       "\n",
       "   TOTAL UNITS  LAND SQUARE FEET  GROSS SQUARE FEET YEAR BUILT  \\\n",
       "0            1               987              2,183       1860   \n",
       "1            1             1,883              5,200       1900   \n",
       "2           22             3,481             14,588       1930   \n",
       "3           16             4,186             10,588       1900   \n",
       "4           18             2,271             10,650       1910   \n",
       "\n",
       "  TAX CLASS AT TIME OF SALE  BUILDING CLASS AT TIME OF SALE  SALE PRICE  \\\n",
       "0                         1                             A4     4844809    \n",
       "1                         1                             A4     6100000    \n",
       "2                         2                             C7     8300000    \n",
       "3                         2                             C7    10350000    \n",
       "4                         2                             C1     5000000    \n",
       "\n",
       "    SALE DATE  \n",
       "0   5/22/2018  \n",
       "1   12/3/2018  \n",
       "2  12/10/2018  \n",
       "3    9/7/2018  \n",
       "4    9/5/2018  \n",
       "\n",
       "[5 rows x 22 columns]"
      ]
     },
     "execution_count": 16,
     "metadata": {},
     "output_type": "execute_result"
    }
   ],
   "source": [
    "ny18_df = ny18_df.reset_index()\n",
    "ny18_df.head()"
   ]
  },
  {
   "cell_type": "code",
   "execution_count": 17,
   "metadata": {
    "scrolled": true
   },
   "outputs": [
    {
     "data": {
      "text/plain": [
       "390"
      ]
     },
     "execution_count": 17,
     "metadata": {},
     "output_type": "execute_result"
    }
   ],
   "source": [
    "ny18_df.loc[0,'BLOCK']"
   ]
  },
  {
   "cell_type": "code",
   "execution_count": 18,
   "metadata": {
    "scrolled": false
   },
   "outputs": [
    {
     "name": "stdout",
     "output_type": "stream",
     "text": [
      "https://www.zillow.com/webservice/GetDeepSearchResults.htm?zws-id=X1-ZWz1gxoufbrk0b_1pt0f&address=189+EAST+7TH+STREET&citystatezip=10009&rentzestimate=true\n",
      "189 E 7th St \n",
      "\n",
      "Entering get_property_estimate\n",
      "End of record 1\n",
      "-------------------------------\n",
      "189 E 7th St \n",
      "\n",
      "End of record 2\n",
      "-------------------------------\n",
      "189 E 7th St \n",
      "\n",
      "Entering get_rent_estimate\n",
      "End of record 3\n",
      "-------------------------------\n",
      "https://www.zillow.com/webservice/GetDeepSearchResults.htm?zws-id=X1-ZWz1gxoufbrk0b_1pt0f&address=526+EAST+5TH+STREET&citystatezip=10009&rentzestimate=true\n",
      "526 E 5th St \n",
      "\n",
      "End of record 1\n",
      "-------------------------------\n"
     ]
    },
    {
     "ename": "KeyboardInterrupt",
     "evalue": "",
     "output_type": "error",
     "traceback": [
      "\u001b[1;31m---------------------------------------------------------------------------\u001b[0m",
      "\u001b[1;31mKeyboardInterrupt\u001b[0m                         Traceback (most recent call last)",
      "\u001b[1;32m<ipython-input-18-8b0d9742bcc6>\u001b[0m in \u001b[0;36m<module>\u001b[1;34m\u001b[0m\n\u001b[0;32m     29\u001b[0m            \u001b[0mprint\u001b[0m\u001b[1;33m(\u001b[0m\u001b[1;34m'-------------------------------'\u001b[0m\u001b[1;33m)\u001b[0m\u001b[1;33m\u001b[0m\u001b[1;33m\u001b[0m\u001b[0m\n\u001b[0;32m     30\u001b[0m            \u001b[0mseries\u001b[0m\u001b[1;33m.\u001b[0m\u001b[0mappend\u001b[0m\u001b[1;33m(\u001b[0m\u001b[0mnew_series\u001b[0m\u001b[1;33m)\u001b[0m\u001b[1;33m\u001b[0m\u001b[1;33m\u001b[0m\u001b[0m\n\u001b[1;32m---> 31\u001b[1;33m        \u001b[0mtime\u001b[0m\u001b[1;33m.\u001b[0m\u001b[0msleep\u001b[0m\u001b[1;33m(\u001b[0m\u001b[1;36m30\u001b[0m\u001b[1;33m)\u001b[0m\u001b[1;33m\u001b[0m\u001b[1;33m\u001b[0m\u001b[0m\n\u001b[0m\u001b[0;32m     32\u001b[0m        \u001b[0mdf\u001b[0m \u001b[1;33m=\u001b[0m \u001b[0mpd\u001b[0m\u001b[1;33m.\u001b[0m\u001b[0mconcat\u001b[0m\u001b[1;33m(\u001b[0m\u001b[0mseries\u001b[0m\u001b[1;33m,\u001b[0m \u001b[1;36m1\u001b[0m\u001b[1;33m,\u001b[0m\u001b[0msort\u001b[0m\u001b[1;33m=\u001b[0m\u001b[1;32mTrue\u001b[0m\u001b[1;33m)\u001b[0m\u001b[1;33m.\u001b[0m\u001b[0mT\u001b[0m\u001b[1;33m\u001b[0m\u001b[1;33m\u001b[0m\u001b[0m\n\u001b[0;32m     33\u001b[0m     \u001b[1;32mexcept\u001b[0m \u001b[0mKeyError\u001b[0m\u001b[1;33m:\u001b[0m\u001b[1;33m\u001b[0m\u001b[1;33m\u001b[0m\u001b[0m\n",
      "\u001b[1;31mKeyboardInterrupt\u001b[0m: "
     ]
    }
   ],
   "source": [
    "block =[]\n",
    "lot=[]\n",
    "ny_sale_amt =[]\n",
    "ny_sale_date=[]\n",
    "series = []\n",
    "curdoc={}\n",
    "\n",
    "for address, zipcode in zip(ny18_df['ADDRESS'],ny18_df['ZIP CODE']):\n",
    "    try:\n",
    "       i = 0\n",
    "       print(f\"https://www.zillow.com/webservice/GetDeepSearchResults.htm?zws-id={z_keys}&address={address}&citystatezip={zipcode}&rentzestimate=true\")\n",
    "       response_main = requests.get(f\"https://www.zillow.com/webservice/GetDeepSearchResults.htm?zws-id={z_keys}&address={address}&citystatezip={zipcode}&rentzestimate=true\")\n",
    "#        block=ny18_Update['BLOCK']\n",
    "#        lot=ny18_Update['LOT']\n",
    "#        sale_amt=ny18_Update['SALE PRICE']\n",
    "#        sale_date=ny18_Update['SALE DATE']\n",
    "       doc = xmltodict.parse(response_main.text, force_list={'result': True})['SearchResults:searchresults']['response']['results']['result']\n",
    "\n",
    "       while i < len(doc):\n",
    "           print(f\"Record {i}: {doc[i]['address']['street']}\")\n",
    "\n",
    "           if need_rent_estimate(doc[i]):\n",
    "               new_series = get_rent_estimate(doc[i])\n",
    "           elif need_sale_estimate(doc[i]):\n",
    "               new_series = get_property_estimate(doc[i])\n",
    "           else\n",
    "               print(\"NO ESTIMATED DEFINITION ENTERED!!\")\n",
    "                 \n",
    "           i+=1\n",
    "                 \n",
    "           print(f'End of record {i}')\n",
    "           print('-------------------------------\\n')\n",
    "           series.append(new_series)\n",
    "       time.sleep(30)\n",
    "       df = pd.concat(series, 1,sort=True).T\n",
    "    except:\n",
    "       print(f\"A EXCEPTION HAS OCCURRED\")"
   ]
  },
  {
   "cell_type": "code",
   "execution_count": null,
   "metadata": {},
   "outputs": [],
   "source": [
    "# xmltodict.parse(response_main.text)['SearchResults:searchresults'].keys()"
   ]
  },
  {
   "cell_type": "code",
   "execution_count": null,
   "metadata": {},
   "outputs": [],
   "source": []
  }
 ],
 "metadata": {
  "kernelspec": {
   "display_name": "Python 3",
   "language": "python",
   "name": "python3"
  },
  "language_info": {
   "codemirror_mode": {
    "name": "ipython",
    "version": 3
   },
   "file_extension": ".py",
   "mimetype": "text/x-python",
   "name": "python",
   "nbconvert_exporter": "python",
   "pygments_lexer": "ipython3",
   "version": "3.6.7"
  }
 },
 "nbformat": 4,
 "nbformat_minor": 2
}
