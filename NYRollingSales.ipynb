{
 "cells": [
  {
   "cell_type": "markdown",
   "metadata": {},
   "source": [
    "# STAR PERFORMERS"
   ]
  },
  {
   "cell_type": "code",
   "execution_count": 1,
   "metadata": {},
   "outputs": [],
   "source": [
    "# Dependencies and Setup\n",
    "import matplotlib.pyplot as plt\n",
    "import pandas as pd\n",
    "import numpy as np\n",
    "import requests\n",
    "import time\n",
    "from bs4 import BeautifulSoup\n",
    "import xmltodict\n",
    "from pprint import pprint\n",
    "import os\n",
    "import csv\n",
    "from api_keys import z_keys"
   ]
  },
  {
   "cell_type": "code",
   "execution_count": 2,
   "metadata": {},
   "outputs": [],
   "source": [
    "ny18_df = pd.read_csv(\"Files/2018NYSales.csv\")"
   ]
  },
  {
   "cell_type": "code",
   "execution_count": 3,
   "metadata": {
    "scrolled": false
   },
   "outputs": [
    {
     "data": {
      "text/plain": [
       "16369"
      ]
     },
     "execution_count": 3,
     "metadata": {},
     "output_type": "execute_result"
    }
   ],
   "source": [
    "len(ny18_df)"
   ]
  },
  {
   "cell_type": "code",
   "execution_count": 5,
   "metadata": {},
   "outputs": [],
   "source": [
    "ny18_df = ny18_df.rename(columns={' SALE PRICE ': 'SALE PRICE'})"
   ]
  },
  {
   "cell_type": "code",
   "execution_count": 6,
   "metadata": {},
   "outputs": [
    {
     "data": {
      "text/plain": [
       "Index(['BOROUGH', 'NEIGHBORHOOD', 'BUILDING CLASS CATEGORY',\n",
       "       'TAX CLASS AT PRESENT', 'BLOCK', 'LOT', 'EASE-MENT',\n",
       "       'BUILDING CLASS AT PRESENT', 'ADDRESS', 'APARTMENT NUMBER', 'ZIP CODE',\n",
       "       'RESIDENTIAL UNITS', 'COMMERCIAL UNITS', 'TOTAL UNITS',\n",
       "       'LAND SQUARE FEET', 'GROSS SQUARE FEET', 'YEAR BUILT',\n",
       "       'TAX CLASS AT TIME OF SALE', 'BUILDING CLASS AT TIME OF SALE',\n",
       "       'SALE PRICE', 'SALE DATE'],\n",
       "      dtype='object')"
      ]
     },
     "execution_count": 6,
     "metadata": {},
     "output_type": "execute_result"
    }
   ],
   "source": [
    "ny18_df.columns"
   ]
  },
  {
   "cell_type": "code",
   "execution_count": null,
   "metadata": {
    "scrolled": true
   },
   "outputs": [],
   "source": [
    "ny18_df.describe()"
   ]
  },
  {
   "cell_type": "code",
   "execution_count": 7,
   "metadata": {},
   "outputs": [
    {
     "data": {
      "text/plain": [
       "BOROUGH                           16369\n",
       "NEIGHBORHOOD                      16369\n",
       "BUILDING CLASS CATEGORY           16369\n",
       "TAX CLASS AT PRESENT              16369\n",
       "BLOCK                             16369\n",
       "LOT                               16369\n",
       "EASE-MENT                         16369\n",
       "BUILDING CLASS AT PRESENT         16369\n",
       "ADDRESS                           16369\n",
       "APARTMENT NUMBER                  16369\n",
       "ZIP CODE                          16369\n",
       "RESIDENTIAL UNITS                 16369\n",
       "COMMERCIAL UNITS                  16369\n",
       "TOTAL UNITS                       16369\n",
       "LAND SQUARE FEET                  16369\n",
       "GROSS SQUARE FEET                 16369\n",
       "YEAR BUILT                        16369\n",
       "TAX CLASS AT TIME OF SALE         16369\n",
       "BUILDING CLASS AT TIME OF SALE    16369\n",
       "SALE PRICE                        16369\n",
       "SALE DATE                         16369\n",
       "dtype: int64"
      ]
     },
     "execution_count": 7,
     "metadata": {},
     "output_type": "execute_result"
    }
   ],
   "source": [
    "ny18_df[\"ADDRESS\"] = ny18_df[\"ADDRESS\"].str.strip()\n",
    "ny18_df['ADDRESS'] = ny18_df['ADDRESS'].str.split(' ').apply(lambda x: '+'.join(x))\n",
    "ny18_df.count()"
   ]
  },
  {
   "cell_type": "code",
   "execution_count": 8,
   "metadata": {},
   "outputs": [],
   "source": [
    "ny18_df[\"SALE PRICE\"] = ny18_df.loc[:,\"SALE PRICE\"].replace('[\\$,]', '', regex=True)\n",
    "ny18_df[\"SALE PRICE\"] = ny18_df.loc[:,\"SALE PRICE\"].replace('[-,]', '0', regex=True)"
   ]
  },
  {
   "cell_type": "code",
   "execution_count": 9,
   "metadata": {},
   "outputs": [],
   "source": [
    "# Removing home prices less than 100K to avoid a bias after preliminary research on what these lower sale prices rep.\n",
    "# like: Internal family sale transfer at $0, garage sale etc.\n",
    "\n",
    "ny18_df = ny18_df[ny18_df['SALE PRICE'].astype(float) > 100000]\n",
    "ny18_df = ny18_df.drop_duplicates(subset=['ADDRESS'], keep = 'first')"
   ]
  },
  {
   "cell_type": "code",
   "execution_count": 10,
   "metadata": {},
   "outputs": [
    {
     "data": {
      "text/plain": [
       "8951"
      ]
     },
     "execution_count": 10,
     "metadata": {},
     "output_type": "execute_result"
    }
   ],
   "source": [
    "len(ny18_df)"
   ]
  },
  {
   "cell_type": "code",
   "execution_count": null,
   "metadata": {},
   "outputs": [],
   "source": [
    "ny18_df.head()"
   ]
  },
  {
   "cell_type": "code",
   "execution_count": null,
   "metadata": {},
   "outputs": [],
   "source": [
    "response = requests.get(f\"https://www.zillow.com/webservice/GetDeepSearchResults.htm?zws-id={z_keys}&address=635+west+42+street&citystatezip=10036&rentzestimate=true\")"
   ]
  },
  {
   "cell_type": "code",
   "execution_count": null,
   "metadata": {},
   "outputs": [],
   "source": [
    "print(response)"
   ]
  },
  {
   "cell_type": "code",
   "execution_count": null,
   "metadata": {},
   "outputs": [],
   "source": [
    "#Using BeautifulSoup to convert XML text to pretty format\n",
    "soup = BeautifulSoup(response.text)\n",
    "print(soup.prettify())"
   ]
  },
  {
   "cell_type": "code",
   "execution_count": null,
   "metadata": {
    "scrolled": true
   },
   "outputs": [],
   "source": [
    "doc = xmltodict.parse(response.text)['SearchResults:searchresults']['response']['results']['result']\n",
    "len(doc)"
   ]
  },
  {
   "cell_type": "code",
   "execution_count": null,
   "metadata": {},
   "outputs": [],
   "source": [
    "doc[1]['address']['street']"
   ]
  },
  {
   "cell_type": "code",
   "execution_count": null,
   "metadata": {},
   "outputs": [],
   "source": [
    "def need_rent_estimate(address):\n",
    "    return (address.get('rentzestimate')) and not(address.get('lastSoldPrice'))"
   ]
  },
  {
   "cell_type": "code",
   "execution_count": null,
   "metadata": {},
   "outputs": [],
   "source": [
    "def need_sale_estimate(address):\n",
    "    return (not(address.get('rentzestimate')) and (address.get('lastSoldPrice')))"
   ]
  },
  {
   "cell_type": "code",
   "execution_count": null,
   "metadata": {},
   "outputs": [],
   "source": [
    "def get_rent_estimate(address):\n",
    "    print(\"Entering get_rent_estimate\")\n",
    "    rent = address['rentzestimate']['amount']['#text']\n",
    "    address = address['address']['street']\n",
    "#     zipcode = address['address']['zipcode']\n",
    "    var = 2\n",
    "#     return pd.Series({'rent':rent, 'address':address,'zipcode':zipcode,'var':var})\n",
    "    return pd.Series({'rent':rent, 'address':address,'var':var})"
   ]
  },
  {
   "cell_type": "code",
   "execution_count": null,
   "metadata": {},
   "outputs": [],
   "source": [
    "def get_property_estimate(address):\n",
    "    print(\"Entering get_property_estimate\")\n",
    "    sold = address['lastSoldPrice']['#text']\n",
    "    sold_date = address['lastSoldDate']\n",
    "#     zestimate=address['zestimate']['amount']['#text']\n",
    "    sqft = address['finishedSqFt']\n",
    "    address = address['address']['street']\n",
    "#     zipcode = address['address']['zipcode']\n",
    "    var = 1\n",
    "    return pd.Series({'sold':sold, 'var':var}) "
   ]
  },
  {
   "cell_type": "code",
   "execution_count": null,
   "metadata": {
    "scrolled": true
   },
   "outputs": [],
   "source": [
    "ny18_df = ny18_df.reset_index()\n",
    "ny18_df.head()"
   ]
  },
  {
   "cell_type": "code",
   "execution_count": null,
   "metadata": {
    "scrolled": true
   },
   "outputs": [],
   "source": [
    "ny18_df.loc[0,'BLOCK']"
   ]
  },
  {
   "cell_type": "code",
   "execution_count": null,
   "metadata": {
    "scrolled": false
   },
   "outputs": [],
   "source": [
    "block =[]\n",
    "lot=[]\n",
    "ny_sale_amt =[]\n",
    "ny_sale_date=[]\n",
    "series = []\n",
    "curdoc={}\n",
    "\n",
    "for address, zipcode in zip(ny18_df['ADDRESS'],ny18_df['ZIP CODE']):\n",
    "    try:\n",
    "       i = 0\n",
    "       print(f\"https://www.zillow.com/webservice/GetDeepSearchResults.htm?zws-id={z_keys}&address={address}&citystatezip={zipcode}&rentzestimate=true\")\n",
    "       response_main = requests.get(f\"https://www.zillow.com/webservice/GetDeepSearchResults.htm?zws-id={z_keys}&address={address}&citystatezip={zipcode}&rentzestimate=true\")\n",
    "#        block=ny18_Update['BLOCK']\n",
    "#        lot=ny18_Update['LOT']\n",
    "#        sale_amt=ny18_Update['SALE PRICE']\n",
    "#        sale_date=ny18_Update['SALE DATE']\n",
    "       doc = xmltodict.parse(response_main.text, force_list={'result': True})['SearchResults:searchresults']['response']['results']['result']\n",
    "\n",
    "       while i < len(doc):\n",
    "           print(f\"{doc[i]['address']['street']} \\n\")\n",
    "\n",
    "           if need_rent_estimate(doc[i]):\n",
    "               new_series = get_rent_estimate(doc[i])\n",
    "           elif need_sale_estimate(doc[i]):\n",
    "               new_series = get_property_estimate(doc[i])\n",
    "           \n",
    "           i+=1\n",
    "           print(f'End of record {i}')\n",
    "           print('-------------------------------')\n",
    "           series.append(new_series)\n",
    "       time.sleep(30)\n",
    "       df = pd.concat(series, 1,sort=True).T\n",
    "    except KeyError:\n",
    "       print(f\"Only 1 record: {doc[i]['address']['street']} \\n\")"
   ]
  },
  {
   "cell_type": "code",
   "execution_count": null,
   "metadata": {},
   "outputs": [],
   "source": [
    "# xmltodict.parse(response_main.text)['SearchResults:searchresults'].keys()"
   ]
  },
  {
   "cell_type": "code",
   "execution_count": null,
   "metadata": {},
   "outputs": [],
   "source": []
  }
 ],
 "metadata": {
  "kernelspec": {
   "display_name": "Python 3",
   "language": "python",
   "name": "python3"
  },
  "language_info": {
   "codemirror_mode": {
    "name": "ipython",
    "version": 3
   },
   "file_extension": ".py",
   "mimetype": "text/x-python",
   "name": "python",
   "nbconvert_exporter": "python",
   "pygments_lexer": "ipython3",
   "version": "3.6.7"
  }
 },
 "nbformat": 4,
 "nbformat_minor": 2
}
