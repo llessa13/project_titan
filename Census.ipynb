{
 "cells": [
  {
   "cell_type": "code",
   "execution_count": 9,
   "metadata": {},
   "outputs": [],
   "source": [
    "# Dependencies\n",
    "import numpy as np\n",
    "import pandas as pd\n",
    "import matplotlib.pyplot as plt\n",
    "import requests\n",
    "from census import Census\n",
    "\n",
    "# Census API Key\n",
    "api_key = \"\"\n",
    "c = Census(api_key, year=2017)"
   ]
  },
  {
   "cell_type": "code",
   "execution_count": null,
   "metadata": {},
   "outputs": [],
   "source": [
    "# Store filepath in a variable\n",
    "manhattan_csv = \"Files/manhattan.csv\"\n",
    "man_zip_df = pd.read_csv(manhattan_csv, encoding=\"ISO-8859-1\")"
   ]
  },
  {
   "cell_type": "code",
   "execution_count": 8,
   "metadata": {},
   "outputs": [
    {
     "data": {
      "text/html": [
       "<div>\n",
       "<style scoped>\n",
       "    .dataframe tbody tr th:only-of-type {\n",
       "        vertical-align: middle;\n",
       "    }\n",
       "\n",
       "    .dataframe tbody tr th {\n",
       "        vertical-align: top;\n",
       "    }\n",
       "\n",
       "    .dataframe thead th {\n",
       "        text-align: right;\n",
       "    }\n",
       "</style>\n",
       "<table border=\"1\" class=\"dataframe\">\n",
       "  <thead>\n",
       "    <tr style=\"text-align: right;\">\n",
       "      <th></th>\n",
       "      <th>Neighborhood</th>\n",
       "      <th>ZIP Codes</th>\n",
       "    </tr>\n",
       "  </thead>\n",
       "  <tbody>\n",
       "    <tr>\n",
       "      <th>0</th>\n",
       "      <td>Central Harlem</td>\n",
       "      <td>10026</td>\n",
       "    </tr>\n",
       "    <tr>\n",
       "      <th>1</th>\n",
       "      <td>Central Harlem</td>\n",
       "      <td>10027</td>\n",
       "    </tr>\n",
       "    <tr>\n",
       "      <th>2</th>\n",
       "      <td>Central Harlem</td>\n",
       "      <td>10030</td>\n",
       "    </tr>\n",
       "    <tr>\n",
       "      <th>3</th>\n",
       "      <td>Central Harlem</td>\n",
       "      <td>10037</td>\n",
       "    </tr>\n",
       "    <tr>\n",
       "      <th>4</th>\n",
       "      <td>Central Harlem</td>\n",
       "      <td>10039</td>\n",
       "    </tr>\n",
       "  </tbody>\n",
       "</table>\n",
       "</div>"
      ],
      "text/plain": [
       "     Neighborhood  ZIP Codes\n",
       "0  Central Harlem      10026\n",
       "1  Central Harlem      10027\n",
       "2  Central Harlem      10030\n",
       "3  Central Harlem      10037\n",
       "4  Central Harlem      10039"
      ]
     },
     "execution_count": 8,
     "metadata": {},
     "output_type": "execute_result"
    }
   ],
   "source": [
    "man_zip_df.head()"
   ]
  },
  {
   "cell_type": "code",
   "execution_count": 20,
   "metadata": {},
   "outputs": [
    {
     "data": {
      "text/plain": [
       "Neighborhood    object\n",
       "ZIP Codes        int64\n",
       "dtype: object"
      ]
     },
     "execution_count": 20,
     "metadata": {},
     "output_type": "execute_result"
    }
   ],
   "source": [
    "man_zip_df.dtypes"
   ]
  },
  {
   "cell_type": "code",
   "execution_count": 15,
   "metadata": {
    "scrolled": false
   },
   "outputs": [
    {
     "data": {
      "text/html": [
       "<div>\n",
       "<style scoped>\n",
       "    .dataframe tbody tr th:only-of-type {\n",
       "        vertical-align: middle;\n",
       "    }\n",
       "\n",
       "    .dataframe tbody tr th {\n",
       "        vertical-align: top;\n",
       "    }\n",
       "\n",
       "    .dataframe thead th {\n",
       "        text-align: right;\n",
       "    }\n",
       "</style>\n",
       "<table border=\"1\" class=\"dataframe\">\n",
       "  <thead>\n",
       "    <tr style=\"text-align: right;\">\n",
       "      <th></th>\n",
       "      <th>ZIP Codes</th>\n",
       "      <th>Owner Occupied</th>\n",
       "      <th>Renter Occupied</th>\n",
       "      <th>American Indian and Alaska Native</th>\n",
       "      <th>Asian</th>\n",
       "      <th>Black or African American</th>\n",
       "      <th>Hispanic or Latino</th>\n",
       "      <th>Hawaiian or Pacific Islander</th>\n",
       "      <th>White</th>\n",
       "      <th>Other</th>\n",
       "      <th>With Mortgage</th>\n",
       "      <th>Without Mortgage</th>\n",
       "      <th>Total</th>\n",
       "    </tr>\n",
       "  </thead>\n",
       "  <tbody>\n",
       "    <tr>\n",
       "      <th>0</th>\n",
       "      <td>00601</td>\n",
       "      <td>15057.0</td>\n",
       "      <td>8635.0</td>\n",
       "      <td>-666666666.0</td>\n",
       "      <td>-666666666.0</td>\n",
       "      <td>-666666666.0</td>\n",
       "      <td>11839.0</td>\n",
       "      <td>-666666666.0</td>\n",
       "      <td>11311.0</td>\n",
       "      <td>13564.0</td>\n",
       "      <td>30106.0</td>\n",
       "      <td>12741.0</td>\n",
       "      <td>11757.0</td>\n",
       "    </tr>\n",
       "    <tr>\n",
       "      <th>1</th>\n",
       "      <td>00602</td>\n",
       "      <td>18871.0</td>\n",
       "      <td>9974.0</td>\n",
       "      <td>-666666666.0</td>\n",
       "      <td>-666666666.0</td>\n",
       "      <td>26458.0</td>\n",
       "      <td>15857.0</td>\n",
       "      <td>-666666666.0</td>\n",
       "      <td>16219.0</td>\n",
       "      <td>29208.0</td>\n",
       "      <td>37540.0</td>\n",
       "      <td>16234.0</td>\n",
       "      <td>16190.0</td>\n",
       "    </tr>\n",
       "    <tr>\n",
       "      <th>2</th>\n",
       "      <td>00603</td>\n",
       "      <td>23341.0</td>\n",
       "      <td>9066.0</td>\n",
       "      <td>-666666666.0</td>\n",
       "      <td>9299.0</td>\n",
       "      <td>16647.0</td>\n",
       "      <td>16475.0</td>\n",
       "      <td>-666666666.0</td>\n",
       "      <td>16710.0</td>\n",
       "      <td>15679.0</td>\n",
       "      <td>36826.0</td>\n",
       "      <td>18455.0</td>\n",
       "      <td>16645.0</td>\n",
       "    </tr>\n",
       "    <tr>\n",
       "      <th>3</th>\n",
       "      <td>00606</td>\n",
       "      <td>16976.0</td>\n",
       "      <td>6367.0</td>\n",
       "      <td>-666666666.0</td>\n",
       "      <td>-666666666.0</td>\n",
       "      <td>-666666666.0</td>\n",
       "      <td>13387.0</td>\n",
       "      <td>-666666666.0</td>\n",
       "      <td>13730.0</td>\n",
       "      <td>12609.0</td>\n",
       "      <td>21544.0</td>\n",
       "      <td>15827.0</td>\n",
       "      <td>13387.0</td>\n",
       "    </tr>\n",
       "    <tr>\n",
       "      <th>4</th>\n",
       "      <td>00610</td>\n",
       "      <td>21152.0</td>\n",
       "      <td>12755.0</td>\n",
       "      <td>-666666666.0</td>\n",
       "      <td>-666666666.0</td>\n",
       "      <td>20583.0</td>\n",
       "      <td>18639.0</td>\n",
       "      <td>-666666666.0</td>\n",
       "      <td>17896.0</td>\n",
       "      <td>19113.0</td>\n",
       "      <td>34980.0</td>\n",
       "      <td>17660.0</td>\n",
       "      <td>18741.0</td>\n",
       "    </tr>\n",
       "  </tbody>\n",
       "</table>\n",
       "</div>"
      ],
      "text/plain": [
       "  ZIP Codes  Owner Occupied  Renter Occupied  \\\n",
       "0     00601         15057.0           8635.0   \n",
       "1     00602         18871.0           9974.0   \n",
       "2     00603         23341.0           9066.0   \n",
       "3     00606         16976.0           6367.0   \n",
       "4     00610         21152.0          12755.0   \n",
       "\n",
       "   American Indian and Alaska Native        Asian  Black or African American  \\\n",
       "0                       -666666666.0 -666666666.0               -666666666.0   \n",
       "1                       -666666666.0 -666666666.0                    26458.0   \n",
       "2                       -666666666.0       9299.0                    16647.0   \n",
       "3                       -666666666.0 -666666666.0               -666666666.0   \n",
       "4                       -666666666.0 -666666666.0                    20583.0   \n",
       "\n",
       "   Hispanic or Latino  Hawaiian or Pacific Islander    White    Other  \\\n",
       "0             11839.0                  -666666666.0  11311.0  13564.0   \n",
       "1             15857.0                  -666666666.0  16219.0  29208.0   \n",
       "2             16475.0                  -666666666.0  16710.0  15679.0   \n",
       "3             13387.0                  -666666666.0  13730.0  12609.0   \n",
       "4             18639.0                  -666666666.0  17896.0  19113.0   \n",
       "\n",
       "   With Mortgage  Without Mortgage    Total  \n",
       "0        30106.0           12741.0  11757.0  \n",
       "1        37540.0           16234.0  16190.0  \n",
       "2        36826.0           18455.0  16645.0  \n",
       "3        21544.0           15827.0  13387.0  \n",
       "4        34980.0           17660.0  18741.0  "
      ]
     },
     "execution_count": 15,
     "metadata": {},
     "output_type": "execute_result"
    }
   ],
   "source": [
    "# Run Census Search to retrieve data on all zip codes (2013 ACS5 Census)\n",
    "census_data = c.acs5.get((\"B25119_002E\",\"B25119_003E\",\"B19013C_001E\",\"B19013D_001E\",\n",
    "                          \"B19013B_001E\",\"B19013I_001E\",\"B19013E_001E\",\"B19013A_001E\",\n",
    "                          \"B19013F_001E\",\"B25099_002E\",\"B25099_003E\",\"B25119_001E\"),\n",
    "                         {'for': 'zip code tabulation area:*'})\n",
    "\n",
    "# Convert to DataFrame\n",
    "census_df = pd.DataFrame(census_data)\n",
    "\n",
    "# Column Reordering\n",
    "census_df = census_df.rename(columns={\"B25119_002E\": \"Owner Occupied\",\n",
    "                                      \"B25119_003E\": \"Renter Occupied\",\n",
    "                                      \"B19013C_001E\": \"American Indian and Alaska Native\",\n",
    "                                      \"B19013D_001E\": \"Asian\",\n",
    "                                      \"B19013B_001E\": \"Black or African American\",\n",
    "                                      \"B19013I_001E\": \"Hispanic or Latino\",\n",
    "                                      \"B19013E_001E\": \"Hawaiian or Pacific Islander\",\n",
    "                                      \"B19013A_001E\": \"White\",\n",
    "                                      \"B19013F_001E\": \"Other\",\n",
    "                                      \"B25099_002E\": \"With Mortgage\",\n",
    "                                      \"B25099_003E\": \"Without Mortgage\",\n",
    "                                      \"B25119_001E\": \"Total\",\n",
    "                                      \"zip code tabulation area\": \"ZIP Codes\"})\n",
    "# Final DataFrame\n",
    "census_df = census_df[[\"ZIP Codes\", \"Owner Occupied\", \"Renter Occupied\", \"American Indian and Alaska Native\",\n",
    "                       \"Asian\", \"Black or African American\", \"Hispanic or Latino\", \"Hawaiian or Pacific Islander\",\n",
    "                       \"White\", \"Other\", \"With Mortgage\", \"Without Mortgage\", \"Total\"]]\n",
    "\n",
    "# Visualize\n",
    "census_df.head()"
   ]
  },
  {
   "cell_type": "code",
   "execution_count": 16,
   "metadata": {
    "scrolled": true
   },
   "outputs": [
    {
     "data": {
      "text/plain": [
       "33120"
      ]
     },
     "execution_count": 16,
     "metadata": {},
     "output_type": "execute_result"
    }
   ],
   "source": [
    "len(census_df)"
   ]
  },
  {
   "cell_type": "code",
   "execution_count": 21,
   "metadata": {},
   "outputs": [],
   "source": [
    "census_df['ZIP Codes'] = pd.to_numeric(census_df['ZIP Codes'])"
   ]
  },
  {
   "cell_type": "code",
   "execution_count": 22,
   "metadata": {},
   "outputs": [
    {
     "data": {
      "text/plain": [
       "ZIP Codes                              int64\n",
       "Owner Occupied                       float64\n",
       "Renter Occupied                      float64\n",
       "American Indian and Alaska Native    float64\n",
       "Asian                                float64\n",
       "Black or African American            float64\n",
       "Hispanic or Latino                   float64\n",
       "Hawaiian or Pacific Islander         float64\n",
       "White                                float64\n",
       "Other                                float64\n",
       "With Mortgage                        float64\n",
       "Without Mortgage                     float64\n",
       "Total                                float64\n",
       "dtype: object"
      ]
     },
     "execution_count": 22,
     "metadata": {},
     "output_type": "execute_result"
    }
   ],
   "source": [
    "census_df.dtypes"
   ]
  },
  {
   "cell_type": "code",
   "execution_count": 25,
   "metadata": {},
   "outputs": [],
   "source": [
    "census_man_df = pd.merge(census_df, man_zip_df, on=\"ZIP Codes\", how=\"outer\")\n",
    "census_man_df = census_man_df.dropna(how='any')"
   ]
  },
  {
   "cell_type": "code",
   "execution_count": 26,
   "metadata": {
    "scrolled": true
   },
   "outputs": [
    {
     "data": {
      "text/plain": [
       "43"
      ]
     },
     "execution_count": 26,
     "metadata": {},
     "output_type": "execute_result"
    }
   ],
   "source": [
    "len(census_man_df)"
   ]
  },
  {
   "cell_type": "code",
   "execution_count": 36,
   "metadata": {},
   "outputs": [],
   "source": [
    "census_man_df = census_man_df.replace(-666666666.0, 0.0)"
   ]
  },
  {
   "cell_type": "code",
   "execution_count": 37,
   "metadata": {},
   "outputs": [
    {
     "data": {
      "text/html": [
       "<div>\n",
       "<style scoped>\n",
       "    .dataframe tbody tr th:only-of-type {\n",
       "        vertical-align: middle;\n",
       "    }\n",
       "\n",
       "    .dataframe tbody tr th {\n",
       "        vertical-align: top;\n",
       "    }\n",
       "\n",
       "    .dataframe thead th {\n",
       "        text-align: right;\n",
       "    }\n",
       "</style>\n",
       "<table border=\"1\" class=\"dataframe\">\n",
       "  <thead>\n",
       "    <tr style=\"text-align: right;\">\n",
       "      <th></th>\n",
       "      <th>ZIP Codes</th>\n",
       "      <th>Owner Occupied</th>\n",
       "      <th>Renter Occupied</th>\n",
       "      <th>American Indian and Alaska Native</th>\n",
       "      <th>Asian</th>\n",
       "      <th>Black or African American</th>\n",
       "      <th>Hispanic or Latino</th>\n",
       "      <th>Hawaiian or Pacific Islander</th>\n",
       "      <th>White</th>\n",
       "      <th>Other</th>\n",
       "      <th>With Mortgage</th>\n",
       "      <th>Without Mortgage</th>\n",
       "      <th>Total</th>\n",
       "      <th>Neighborhood</th>\n",
       "    </tr>\n",
       "  </thead>\n",
       "  <tbody>\n",
       "    <tr>\n",
       "      <th>2558</th>\n",
       "      <td>10001</td>\n",
       "      <td>107031.0</td>\n",
       "      <td>76768.0</td>\n",
       "      <td>0.0</td>\n",
       "      <td>66023.0</td>\n",
       "      <td>36974.0</td>\n",
       "      <td>76399.0</td>\n",
       "      <td>0.0</td>\n",
       "      <td>104914.0</td>\n",
       "      <td>41705.0</td>\n",
       "      <td>141696.0</td>\n",
       "      <td>79931.0</td>\n",
       "      <td>85221.0</td>\n",
       "      <td>Chelsea and Clinton</td>\n",
       "    </tr>\n",
       "    <tr>\n",
       "      <th>2559</th>\n",
       "      <td>10002</td>\n",
       "      <td>88537.0</td>\n",
       "      <td>30719.0</td>\n",
       "      <td>21045.0</td>\n",
       "      <td>26425.0</td>\n",
       "      <td>23302.0</td>\n",
       "      <td>25165.0</td>\n",
       "      <td>0.0</td>\n",
       "      <td>72072.0</td>\n",
       "      <td>22096.0</td>\n",
       "      <td>128920.0</td>\n",
       "      <td>58913.0</td>\n",
       "      <td>35449.0</td>\n",
       "      <td>Lower East Side</td>\n",
       "    </tr>\n",
       "    <tr>\n",
       "      <th>2560</th>\n",
       "      <td>10003</td>\n",
       "      <td>163511.0</td>\n",
       "      <td>88920.0</td>\n",
       "      <td>0.0</td>\n",
       "      <td>81827.0</td>\n",
       "      <td>68641.0</td>\n",
       "      <td>72731.0</td>\n",
       "      <td>0.0</td>\n",
       "      <td>112308.0</td>\n",
       "      <td>48244.0</td>\n",
       "      <td>217246.0</td>\n",
       "      <td>95324.0</td>\n",
       "      <td>104441.0</td>\n",
       "      <td>Lower East Side</td>\n",
       "    </tr>\n",
       "    <tr>\n",
       "      <th>2561</th>\n",
       "      <td>10004</td>\n",
       "      <td>142000.0</td>\n",
       "      <td>135078.0</td>\n",
       "      <td>0.0</td>\n",
       "      <td>104529.0</td>\n",
       "      <td>0.0</td>\n",
       "      <td>0.0</td>\n",
       "      <td>0.0</td>\n",
       "      <td>142543.0</td>\n",
       "      <td>0.0</td>\n",
       "      <td>202591.0</td>\n",
       "      <td>98750.0</td>\n",
       "      <td>140450.0</td>\n",
       "      <td>Lower Manhattan</td>\n",
       "    </tr>\n",
       "    <tr>\n",
       "      <th>2562</th>\n",
       "      <td>10005</td>\n",
       "      <td>0.0</td>\n",
       "      <td>157582.0</td>\n",
       "      <td>0.0</td>\n",
       "      <td>103273.0</td>\n",
       "      <td>157690.0</td>\n",
       "      <td>194615.0</td>\n",
       "      <td>0.0</td>\n",
       "      <td>181250.0</td>\n",
       "      <td>250001.0</td>\n",
       "      <td>178333.0</td>\n",
       "      <td>0.0</td>\n",
       "      <td>154213.0</td>\n",
       "      <td>Lower Manhattan</td>\n",
       "    </tr>\n",
       "  </tbody>\n",
       "</table>\n",
       "</div>"
      ],
      "text/plain": [
       "      ZIP Codes  Owner Occupied  Renter Occupied  \\\n",
       "2558      10001        107031.0          76768.0   \n",
       "2559      10002         88537.0          30719.0   \n",
       "2560      10003        163511.0          88920.0   \n",
       "2561      10004        142000.0         135078.0   \n",
       "2562      10005             0.0         157582.0   \n",
       "\n",
       "      American Indian and Alaska Native     Asian  Black or African American  \\\n",
       "2558                                0.0   66023.0                    36974.0   \n",
       "2559                            21045.0   26425.0                    23302.0   \n",
       "2560                                0.0   81827.0                    68641.0   \n",
       "2561                                0.0  104529.0                        0.0   \n",
       "2562                                0.0  103273.0                   157690.0   \n",
       "\n",
       "      Hispanic or Latino  Hawaiian or Pacific Islander     White     Other  \\\n",
       "2558             76399.0                           0.0  104914.0   41705.0   \n",
       "2559             25165.0                           0.0   72072.0   22096.0   \n",
       "2560             72731.0                           0.0  112308.0   48244.0   \n",
       "2561                 0.0                           0.0  142543.0       0.0   \n",
       "2562            194615.0                           0.0  181250.0  250001.0   \n",
       "\n",
       "      With Mortgage  Without Mortgage     Total         Neighborhood  \n",
       "2558       141696.0           79931.0   85221.0  Chelsea and Clinton  \n",
       "2559       128920.0           58913.0   35449.0      Lower East Side  \n",
       "2560       217246.0           95324.0  104441.0      Lower East Side  \n",
       "2561       202591.0           98750.0  140450.0      Lower Manhattan  \n",
       "2562       178333.0               0.0  154213.0      Lower Manhattan  "
      ]
     },
     "execution_count": 37,
     "metadata": {},
     "output_type": "execute_result"
    }
   ],
   "source": [
    "#Data for Income based on Household\n",
    "census_man_df.head()"
   ]
  },
  {
   "cell_type": "code",
   "execution_count": null,
   "metadata": {},
   "outputs": [],
   "source": []
  }
 ],
 "metadata": {
  "kernelspec": {
   "display_name": "Python 3",
   "language": "python",
   "name": "python3"
  },
  "language_info": {
   "codemirror_mode": {
    "name": "ipython",
    "version": 3
   },
   "file_extension": ".py",
   "mimetype": "text/x-python",
   "name": "python",
   "nbconvert_exporter": "python",
   "pygments_lexer": "ipython3",
   "version": "3.6.7"
  }
 },
 "nbformat": 4,
 "nbformat_minor": 2
}
