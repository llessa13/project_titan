{
 "cells": [
  {
   "cell_type": "code",
   "execution_count": 1,
   "metadata": {},
   "outputs": [],
   "source": [
    "# Dependencies and Setup\n",
    "import matplotlib.pyplot as plt\n",
    "import pandas as pd\n",
    "import numpy as np\n",
    "import requests\n",
    "import time\n",
    "from bs4 import BeautifulSoup\n",
    "import xmltodict\n",
    "from pprint import pprint\n",
    "import os\n",
    "import csv\n",
    "import datetime"
   ]
  },
  {
   "cell_type": "code",
   "execution_count": 2,
   "metadata": {},
   "outputs": [],
   "source": [
    "pd.set_option('float_format', '{0:.2f}'.format)"
   ]
  },
  {
   "cell_type": "code",
   "execution_count": 3,
   "metadata": {},
   "outputs": [],
   "source": [
    "zillow_df = pd.read_csv(\"OutputData - Total.csv\")\n",
    "zipcode_df = pd.read_csv(\"Files/manhattan_mod.csv\")"
   ]
  },
  {
   "cell_type": "code",
   "execution_count": 4,
   "metadata": {},
   "outputs": [
    {
     "data": {
      "text/plain": [
       "Index(['Unnamed: 0', 'address', 'rent', 'sold', 'sold year', 'sqft', 'var',\n",
       "       'zipcode'],\n",
       "      dtype='object')"
      ]
     },
     "execution_count": 4,
     "metadata": {},
     "output_type": "execute_result"
    }
   ],
   "source": [
    "zillow_df.columns"
   ]
  },
  {
   "cell_type": "code",
   "execution_count": 5,
   "metadata": {},
   "outputs": [
    {
     "data": {
      "text/plain": [
       "Index(['Neighborhood', 'zipcode'], dtype='object')"
      ]
     },
     "execution_count": 5,
     "metadata": {},
     "output_type": "execute_result"
    }
   ],
   "source": [
    "zipcode_df.columns"
   ]
  },
  {
   "cell_type": "code",
   "execution_count": 6,
   "metadata": {
    "scrolled": true
   },
   "outputs": [
    {
     "data": {
      "text/html": [
       "<div>\n",
       "<style scoped>\n",
       "    .dataframe tbody tr th:only-of-type {\n",
       "        vertical-align: middle;\n",
       "    }\n",
       "\n",
       "    .dataframe tbody tr th {\n",
       "        vertical-align: top;\n",
       "    }\n",
       "\n",
       "    .dataframe thead th {\n",
       "        text-align: right;\n",
       "    }\n",
       "</style>\n",
       "<table border=\"1\" class=\"dataframe\">\n",
       "  <thead>\n",
       "    <tr style=\"text-align: right;\">\n",
       "      <th></th>\n",
       "      <th>address</th>\n",
       "      <th>rent</th>\n",
       "      <th>sold</th>\n",
       "      <th>sold year</th>\n",
       "      <th>sqft</th>\n",
       "      <th>var</th>\n",
       "      <th>zipcode</th>\n",
       "    </tr>\n",
       "  </thead>\n",
       "  <tbody>\n",
       "    <tr>\n",
       "      <th>0</th>\n",
       "      <td>189 E 7th St</td>\n",
       "      <td>nan</td>\n",
       "      <td>3300000.00</td>\n",
       "      <td>2015.00</td>\n",
       "      <td>4200.00</td>\n",
       "      <td>1</td>\n",
       "      <td>10009</td>\n",
       "    </tr>\n",
       "    <tr>\n",
       "      <th>1</th>\n",
       "      <td>189 E 7th St</td>\n",
       "      <td>14995.00</td>\n",
       "      <td>4844809.00</td>\n",
       "      <td>2018.00</td>\n",
       "      <td>2183.00</td>\n",
       "      <td>0</td>\n",
       "      <td>10009</td>\n",
       "    </tr>\n",
       "    <tr>\n",
       "      <th>2</th>\n",
       "      <td>189 E 7th St</td>\n",
       "      <td>14995.00</td>\n",
       "      <td>nan</td>\n",
       "      <td>nan</td>\n",
       "      <td>nan</td>\n",
       "      <td>2</td>\n",
       "      <td>10009</td>\n",
       "    </tr>\n",
       "    <tr>\n",
       "      <th>3</th>\n",
       "      <td>526 E 5th St</td>\n",
       "      <td>23000.00</td>\n",
       "      <td>6100000.00</td>\n",
       "      <td>2018.00</td>\n",
       "      <td>5200.00</td>\n",
       "      <td>0</td>\n",
       "      <td>10009</td>\n",
       "    </tr>\n",
       "    <tr>\n",
       "      <th>4</th>\n",
       "      <td>133 Avenue D APT 16</td>\n",
       "      <td>3995.00</td>\n",
       "      <td>nan</td>\n",
       "      <td>nan</td>\n",
       "      <td>nan</td>\n",
       "      <td>2</td>\n",
       "      <td>10009</td>\n",
       "    </tr>\n",
       "  </tbody>\n",
       "</table>\n",
       "</div>"
      ],
      "text/plain": [
       "               address     rent       sold  sold year    sqft  var  zipcode\n",
       "0         189 E 7th St      nan 3300000.00    2015.00 4200.00    1    10009\n",
       "1         189 E 7th St 14995.00 4844809.00    2018.00 2183.00    0    10009\n",
       "2         189 E 7th St 14995.00        nan        nan     nan    2    10009\n",
       "3         526 E 5th St 23000.00 6100000.00    2018.00 5200.00    0    10009\n",
       "4  133 Avenue D APT 16  3995.00        nan        nan     nan    2    10009"
      ]
     },
     "execution_count": 6,
     "metadata": {},
     "output_type": "execute_result"
    }
   ],
   "source": [
    "zillow_df = zillow_df.drop(columns='Unnamed: 0', axis=1) # axis 0 for row and axis 1 for column\n",
    "zillow_df.head()"
   ]
  },
  {
   "cell_type": "code",
   "execution_count": 7,
   "metadata": {},
   "outputs": [],
   "source": [
    "zillow_df = pd.merge(zillow_df, zipcode_df, on=\"zipcode\", how=\"outer\")"
   ]
  },
  {
   "cell_type": "code",
   "execution_count": 8,
   "metadata": {
    "scrolled": true
   },
   "outputs": [
    {
     "data": {
      "text/plain": [
       "address         23736\n",
       "rent            23588\n",
       "sold            13408\n",
       "sold year       13408\n",
       "sqft            13408\n",
       "var             23736\n",
       "zipcode         23737\n",
       "Neighborhood    23604\n",
       "dtype: int64"
      ]
     },
     "execution_count": 8,
     "metadata": {},
     "output_type": "execute_result"
    }
   ],
   "source": [
    "zillow_df.count()"
   ]
  },
  {
   "cell_type": "code",
   "execution_count": 9,
   "metadata": {},
   "outputs": [
    {
     "data": {
      "text/plain": [
       "Index(['Neighborhood', 'rent', 'sold', 'sold year', 'sqft', 'var', 'zipcode'], dtype='object')"
      ]
     },
     "execution_count": 9,
     "metadata": {},
     "output_type": "execute_result"
    }
   ],
   "source": [
    "rent_df = zillow_df.groupby(\"Neighborhood\", as_index=False).mean()\n",
    "rent_df.columns"
   ]
  },
  {
   "cell_type": "code",
   "execution_count": 10,
   "metadata": {},
   "outputs": [],
   "source": [
    "rent_df = rent_df.drop(columns=[\"sold\",\"sold year\",\"var\", \"sqft\", \"zipcode\"], axis=1)"
   ]
  },
  {
   "cell_type": "code",
   "execution_count": 11,
   "metadata": {
    "scrolled": true
   },
   "outputs": [
    {
     "data": {
      "text/html": [
       "<div>\n",
       "<style scoped>\n",
       "    .dataframe tbody tr th:only-of-type {\n",
       "        vertical-align: middle;\n",
       "    }\n",
       "\n",
       "    .dataframe tbody tr th {\n",
       "        vertical-align: top;\n",
       "    }\n",
       "\n",
       "    .dataframe thead th {\n",
       "        text-align: right;\n",
       "    }\n",
       "</style>\n",
       "<table border=\"1\" class=\"dataframe\">\n",
       "  <thead>\n",
       "    <tr style=\"text-align: right;\">\n",
       "      <th></th>\n",
       "      <th>Neighborhood</th>\n",
       "      <th>rent</th>\n",
       "    </tr>\n",
       "  </thead>\n",
       "  <tbody>\n",
       "    <tr>\n",
       "      <th>0</th>\n",
       "      <td>Central Harlem</td>\n",
       "      <td>3439.21</td>\n",
       "    </tr>\n",
       "    <tr>\n",
       "      <th>1</th>\n",
       "      <td>Chelsea/Clinton</td>\n",
       "      <td>6945.00</td>\n",
       "    </tr>\n",
       "    <tr>\n",
       "      <th>2</th>\n",
       "      <td>East Harlem</td>\n",
       "      <td>3612.47</td>\n",
       "    </tr>\n",
       "    <tr>\n",
       "      <th>3</th>\n",
       "      <td>Gramercy/Murray</td>\n",
       "      <td>5143.76</td>\n",
       "    </tr>\n",
       "    <tr>\n",
       "      <th>4</th>\n",
       "      <td>Greenwich/Soho</td>\n",
       "      <td>9915.68</td>\n",
       "    </tr>\n",
       "    <tr>\n",
       "      <th>5</th>\n",
       "      <td>Inwood/Washington Heights</td>\n",
       "      <td>2538.77</td>\n",
       "    </tr>\n",
       "    <tr>\n",
       "      <th>6</th>\n",
       "      <td>Lower Eastside</td>\n",
       "      <td>5384.64</td>\n",
       "    </tr>\n",
       "    <tr>\n",
       "      <th>7</th>\n",
       "      <td>Lower Manhattan</td>\n",
       "      <td>7744.46</td>\n",
       "    </tr>\n",
       "    <tr>\n",
       "      <th>8</th>\n",
       "      <td>Upper Eastside</td>\n",
       "      <td>6016.81</td>\n",
       "    </tr>\n",
       "    <tr>\n",
       "      <th>9</th>\n",
       "      <td>Upper Westside</td>\n",
       "      <td>5540.34</td>\n",
       "    </tr>\n",
       "  </tbody>\n",
       "</table>\n",
       "</div>"
      ],
      "text/plain": [
       "                Neighborhood    rent\n",
       "0             Central Harlem 3439.21\n",
       "1            Chelsea/Clinton 6945.00\n",
       "2                East Harlem 3612.47\n",
       "3            Gramercy/Murray 5143.76\n",
       "4            Greenwich/Soho  9915.68\n",
       "5  Inwood/Washington Heights 2538.77\n",
       "6            Lower Eastside  5384.64\n",
       "7            Lower Manhattan 7744.46\n",
       "8             Upper Eastside 6016.81\n",
       "9            Upper Westside  5540.34"
      ]
     },
     "execution_count": 11,
     "metadata": {},
     "output_type": "execute_result"
    }
   ],
   "source": [
    "rent_df"
   ]
  },
  {
   "cell_type": "code",
   "execution_count": 12,
   "metadata": {},
   "outputs": [],
   "source": [
    "zillow_df = zillow_df[zillow_df.loc[:,\"sold year\"]==2018]"
   ]
  },
  {
   "cell_type": "code",
   "execution_count": 13,
   "metadata": {},
   "outputs": [],
   "source": [
    "zillow_df = zillow_df.dropna(how=\"any\")"
   ]
  },
  {
   "cell_type": "code",
   "execution_count": 14,
   "metadata": {},
   "outputs": [
    {
     "data": {
      "text/plain": [
       "address         3248\n",
       "rent            3248\n",
       "sold            3248\n",
       "sold year       3248\n",
       "sqft            3248\n",
       "var             3248\n",
       "zipcode         3248\n",
       "Neighborhood    3248\n",
       "dtype: int64"
      ]
     },
     "execution_count": 14,
     "metadata": {},
     "output_type": "execute_result"
    }
   ],
   "source": [
    "zillow_df.count()"
   ]
  },
  {
   "cell_type": "code",
   "execution_count": 15,
   "metadata": {},
   "outputs": [],
   "source": [
    "zillow_df = zillow_df.groupby(\"Neighborhood\", as_index=False).median()"
   ]
  },
  {
   "cell_type": "code",
   "execution_count": 16,
   "metadata": {
    "scrolled": true
   },
   "outputs": [],
   "source": [
    "sold_df = zillow_df[[\"Neighborhood\",\"sold\", \"sqft\"]]"
   ]
  },
  {
   "cell_type": "code",
   "execution_count": 17,
   "metadata": {
    "scrolled": true
   },
   "outputs": [
    {
     "name": "stderr",
     "output_type": "stream",
     "text": [
      "C:\\Users\\yuj\\anaconda\\anaconda3\\envs\\PythonData\\lib\\site-packages\\ipykernel_launcher.py:1: SettingWithCopyWarning: \n",
      "A value is trying to be set on a copy of a slice from a DataFrame.\n",
      "Try using .loc[row_indexer,col_indexer] = value instead\n",
      "\n",
      "See the caveats in the documentation: http://pandas.pydata.org/pandas-docs/stable/indexing.html#indexing-view-versus-copy\n",
      "  \"\"\"Entry point for launching an IPython kernel.\n",
      "C:\\Users\\yuj\\anaconda\\anaconda3\\envs\\PythonData\\lib\\site-packages\\ipykernel_launcher.py:3: SettingWithCopyWarning: \n",
      "A value is trying to be set on a copy of a slice from a DataFrame.\n",
      "Try using .loc[row_indexer,col_indexer] = value instead\n",
      "\n",
      "See the caveats in the documentation: http://pandas.pydata.org/pandas-docs/stable/indexing.html#indexing-view-versus-copy\n",
      "  This is separate from the ipykernel package so we can avoid doing imports until\n",
      "C:\\Users\\yuj\\anaconda\\anaconda3\\envs\\PythonData\\lib\\site-packages\\ipykernel_launcher.py:4: SettingWithCopyWarning: \n",
      "A value is trying to be set on a copy of a slice from a DataFrame.\n",
      "Try using .loc[row_indexer,col_indexer] = value instead\n",
      "\n",
      "See the caveats in the documentation: http://pandas.pydata.org/pandas-docs/stable/indexing.html#indexing-view-versus-copy\n",
      "  after removing the cwd from sys.path.\n"
     ]
    }
   ],
   "source": [
    "sold_df[\"Avg 20% Downpayment\"] = sold_df[\"sold\"]*.2\n",
    "\n",
    "sold_df[\"Avg High Closing Cost\"] = sold_df[\"sold\"]*.05\n",
    "sold_df[\"Avg Property Taxes\"] = sold_df[\"sold\"]*.008\n",
    "avg_property_insurance = 1595\n",
    "\n",
    "year1 = 15 *12\n",
    "year2 = 30 *12\n",
    "interestRate1 = 3.95/100/12\n",
    "interestRate2 = 4.5/100/12\n",
    "\n",
    "sold_df[\"15 Years Monthly Mortgage\"] = (sold_df[\"sold\"] * .8) * (interestRate1 * (1 +interestRate1) \n",
    "                                                                 ** year1) / ((1+interestRate1) ** year1 - 1)\n",
    "sold_df[\"30 Years Monthly Mortgage\"] = (sold_df[\"sold\"] * .8) * (interestRate2 * (1 +interestRate2) \n",
    "                                                                 ** year2) / ((1+interestRate2) ** year2 - 1)\n",
    "#Variable is the maintenance cost"
   ]
  },
  {
   "cell_type": "code",
   "execution_count": 18,
   "metadata": {},
   "outputs": [],
   "source": [
    "clean_df = pd.merge(sold_df, rent_df, on=\"Neighborhood\", how=\"outer\")"
   ]
  },
  {
   "cell_type": "code",
   "execution_count": 19,
   "metadata": {},
   "outputs": [
    {
     "data": {
      "text/html": [
       "<div>\n",
       "<style scoped>\n",
       "    .dataframe tbody tr th:only-of-type {\n",
       "        vertical-align: middle;\n",
       "    }\n",
       "\n",
       "    .dataframe tbody tr th {\n",
       "        vertical-align: top;\n",
       "    }\n",
       "\n",
       "    .dataframe thead th {\n",
       "        text-align: right;\n",
       "    }\n",
       "</style>\n",
       "<table border=\"1\" class=\"dataframe\">\n",
       "  <thead>\n",
       "    <tr style=\"text-align: right;\">\n",
       "      <th></th>\n",
       "      <th>Neighborhood</th>\n",
       "      <th>sold</th>\n",
       "      <th>sqft</th>\n",
       "      <th>Avg 20% Downpayment</th>\n",
       "      <th>Avg High Closing Cost</th>\n",
       "      <th>Avg Property Taxes</th>\n",
       "      <th>15 Years Monthly Mortgage</th>\n",
       "      <th>30 Years Monthly Mortgage</th>\n",
       "      <th>rent</th>\n",
       "    </tr>\n",
       "  </thead>\n",
       "  <tbody>\n",
       "    <tr>\n",
       "      <th>0</th>\n",
       "      <td>Central Harlem</td>\n",
       "      <td>971993.50</td>\n",
       "      <td>1253.50</td>\n",
       "      <td>194398.70</td>\n",
       "      <td>48599.68</td>\n",
       "      <td>7775.95</td>\n",
       "      <td>5732.31</td>\n",
       "      <td>3939.96</td>\n",
       "      <td>3439.21</td>\n",
       "    </tr>\n",
       "    <tr>\n",
       "      <th>1</th>\n",
       "      <td>Chelsea/Clinton</td>\n",
       "      <td>1100000.00</td>\n",
       "      <td>1039.00</td>\n",
       "      <td>220000.00</td>\n",
       "      <td>55000.00</td>\n",
       "      <td>8800.00</td>\n",
       "      <td>6487.23</td>\n",
       "      <td>4458.83</td>\n",
       "      <td>6945.00</td>\n",
       "    </tr>\n",
       "    <tr>\n",
       "      <th>2</th>\n",
       "      <td>East Harlem</td>\n",
       "      <td>719000.00</td>\n",
       "      <td>1600.00</td>\n",
       "      <td>143800.00</td>\n",
       "      <td>35950.00</td>\n",
       "      <td>5752.00</td>\n",
       "      <td>4240.29</td>\n",
       "      <td>2914.45</td>\n",
       "      <td>3612.47</td>\n",
       "    </tr>\n",
       "    <tr>\n",
       "      <th>3</th>\n",
       "      <td>Gramercy/Murray</td>\n",
       "      <td>814000.00</td>\n",
       "      <td>900.00</td>\n",
       "      <td>162800.00</td>\n",
       "      <td>40700.00</td>\n",
       "      <td>6512.00</td>\n",
       "      <td>4800.55</td>\n",
       "      <td>3299.53</td>\n",
       "      <td>5143.76</td>\n",
       "    </tr>\n",
       "    <tr>\n",
       "      <th>4</th>\n",
       "      <td>Greenwich/Soho</td>\n",
       "      <td>2740000.00</td>\n",
       "      <td>1800.00</td>\n",
       "      <td>548000.00</td>\n",
       "      <td>137000.00</td>\n",
       "      <td>21920.00</td>\n",
       "      <td>16159.09</td>\n",
       "      <td>11106.54</td>\n",
       "      <td>9915.68</td>\n",
       "    </tr>\n",
       "    <tr>\n",
       "      <th>5</th>\n",
       "      <td>Inwood/Washington Heights</td>\n",
       "      <td>587000.00</td>\n",
       "      <td>1000.00</td>\n",
       "      <td>117400.00</td>\n",
       "      <td>29350.00</td>\n",
       "      <td>4696.00</td>\n",
       "      <td>3461.82</td>\n",
       "      <td>2379.39</td>\n",
       "      <td>2538.77</td>\n",
       "    </tr>\n",
       "    <tr>\n",
       "      <th>6</th>\n",
       "      <td>Lower Eastside</td>\n",
       "      <td>984000.00</td>\n",
       "      <td>875.00</td>\n",
       "      <td>196800.00</td>\n",
       "      <td>49200.00</td>\n",
       "      <td>7872.00</td>\n",
       "      <td>5803.12</td>\n",
       "      <td>3988.63</td>\n",
       "      <td>5384.64</td>\n",
       "    </tr>\n",
       "    <tr>\n",
       "      <th>7</th>\n",
       "      <td>Lower Manhattan</td>\n",
       "      <td>1421212.50</td>\n",
       "      <td>1329.50</td>\n",
       "      <td>284242.50</td>\n",
       "      <td>71060.62</td>\n",
       "      <td>11369.70</td>\n",
       "      <td>8381.57</td>\n",
       "      <td>5760.86</td>\n",
       "      <td>7744.46</td>\n",
       "    </tr>\n",
       "    <tr>\n",
       "      <th>8</th>\n",
       "      <td>Upper Eastside</td>\n",
       "      <td>975000.00</td>\n",
       "      <td>1150.00</td>\n",
       "      <td>195000.00</td>\n",
       "      <td>48750.00</td>\n",
       "      <td>7800.00</td>\n",
       "      <td>5750.04</td>\n",
       "      <td>3952.15</td>\n",
       "      <td>6016.81</td>\n",
       "    </tr>\n",
       "    <tr>\n",
       "      <th>9</th>\n",
       "      <td>Upper Westside</td>\n",
       "      <td>1050000.00</td>\n",
       "      <td>1127.00</td>\n",
       "      <td>210000.00</td>\n",
       "      <td>52500.00</td>\n",
       "      <td>8400.00</td>\n",
       "      <td>6192.35</td>\n",
       "      <td>4256.16</td>\n",
       "      <td>5540.34</td>\n",
       "    </tr>\n",
       "  </tbody>\n",
       "</table>\n",
       "</div>"
      ],
      "text/plain": [
       "                Neighborhood       sold    sqft  Avg 20% Downpayment  \\\n",
       "0             Central Harlem  971993.50 1253.50            194398.70   \n",
       "1            Chelsea/Clinton 1100000.00 1039.00            220000.00   \n",
       "2                East Harlem  719000.00 1600.00            143800.00   \n",
       "3            Gramercy/Murray  814000.00  900.00            162800.00   \n",
       "4            Greenwich/Soho  2740000.00 1800.00            548000.00   \n",
       "5  Inwood/Washington Heights  587000.00 1000.00            117400.00   \n",
       "6            Lower Eastside   984000.00  875.00            196800.00   \n",
       "7            Lower Manhattan 1421212.50 1329.50            284242.50   \n",
       "8             Upper Eastside  975000.00 1150.00            195000.00   \n",
       "9            Upper Westside  1050000.00 1127.00            210000.00   \n",
       "\n",
       "   Avg High Closing Cost  Avg Property Taxes  15 Years Monthly Mortgage  \\\n",
       "0               48599.68             7775.95                    5732.31   \n",
       "1               55000.00             8800.00                    6487.23   \n",
       "2               35950.00             5752.00                    4240.29   \n",
       "3               40700.00             6512.00                    4800.55   \n",
       "4              137000.00            21920.00                   16159.09   \n",
       "5               29350.00             4696.00                    3461.82   \n",
       "6               49200.00             7872.00                    5803.12   \n",
       "7               71060.62            11369.70                    8381.57   \n",
       "8               48750.00             7800.00                    5750.04   \n",
       "9               52500.00             8400.00                    6192.35   \n",
       "\n",
       "   30 Years Monthly Mortgage    rent  \n",
       "0                    3939.96 3439.21  \n",
       "1                    4458.83 6945.00  \n",
       "2                    2914.45 3612.47  \n",
       "3                    3299.53 5143.76  \n",
       "4                   11106.54 9915.68  \n",
       "5                    2379.39 2538.77  \n",
       "6                    3988.63 5384.64  \n",
       "7                    5760.86 7744.46  \n",
       "8                    3952.15 6016.81  \n",
       "9                    4256.16 5540.34  "
      ]
     },
     "execution_count": 19,
     "metadata": {},
     "output_type": "execute_result"
    }
   ],
   "source": [
    "clean_df"
   ]
  },
  {
   "cell_type": "code",
   "execution_count": null,
   "metadata": {},
   "outputs": [],
   "source": [
    "clean_df.to_csv(\"Files/\")"
   ]
  }
 ],
 "metadata": {
  "kernelspec": {
   "display_name": "Python 3",
   "language": "python",
   "name": "python3"
  },
  "language_info": {
   "codemirror_mode": {
    "name": "ipython",
    "version": 3
   },
   "file_extension": ".py",
   "mimetype": "text/x-python",
   "name": "python",
   "nbconvert_exporter": "python",
   "pygments_lexer": "ipython3",
   "version": "3.6.7"
  }
 },
 "nbformat": 4,
 "nbformat_minor": 2
}
