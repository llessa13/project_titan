{
 "cells": [
  {
   "cell_type": "code",
   "execution_count": 1,
   "metadata": {},
   "outputs": [],
   "source": [
    "# Dependencies and Setup\n",
    "import numpy as np\n",
    "import matplotlib.pyplot as plt\n",
    "import pandas as pd\n",
    "import time\n",
    "import os\n",
    "import csv"
   ]
  },
  {
   "cell_type": "code",
   "execution_count": 2,
   "metadata": {},
   "outputs": [],
   "source": [
    "pd.set_option('float_format', '{0:.2f}'.format)"
   ]
  },
  {
   "cell_type": "code",
   "execution_count": 3,
   "metadata": {},
   "outputs": [],
   "source": [
    "zillow_df = pd.read_csv(\"OutputData - Total.csv\")\n",
    "zipcode_df = pd.read_csv(\"Files/manhattan_mod.csv\")"
   ]
  },
  {
   "cell_type": "code",
   "execution_count": 4,
   "metadata": {},
   "outputs": [
    {
     "data": {
      "text/plain": [
       "Index(['Unnamed: 0', 'address', 'rent', 'sold', 'sold year', 'sqft', 'var',\n",
       "       'zipcode'],\n",
       "      dtype='object')"
      ]
     },
     "execution_count": 4,
     "metadata": {},
     "output_type": "execute_result"
    }
   ],
   "source": [
    "zillow_df.columns"
   ]
  },
  {
   "cell_type": "code",
   "execution_count": 5,
   "metadata": {},
   "outputs": [
    {
     "data": {
      "text/plain": [
       "Index(['Neighborhood', 'zipcode'], dtype='object')"
      ]
     },
     "execution_count": 5,
     "metadata": {},
     "output_type": "execute_result"
    }
   ],
   "source": [
    "zipcode_df.columns"
   ]
  },
  {
   "cell_type": "code",
   "execution_count": 6,
   "metadata": {
    "scrolled": true
   },
   "outputs": [
    {
     "data": {
      "text/html": [
       "<div>\n",
       "<style scoped>\n",
       "    .dataframe tbody tr th:only-of-type {\n",
       "        vertical-align: middle;\n",
       "    }\n",
       "\n",
       "    .dataframe tbody tr th {\n",
       "        vertical-align: top;\n",
       "    }\n",
       "\n",
       "    .dataframe thead th {\n",
       "        text-align: right;\n",
       "    }\n",
       "</style>\n",
       "<table border=\"1\" class=\"dataframe\">\n",
       "  <thead>\n",
       "    <tr style=\"text-align: right;\">\n",
       "      <th></th>\n",
       "      <th>address</th>\n",
       "      <th>rent</th>\n",
       "      <th>sold</th>\n",
       "      <th>sold year</th>\n",
       "      <th>sqft</th>\n",
       "      <th>var</th>\n",
       "      <th>zipcode</th>\n",
       "    </tr>\n",
       "  </thead>\n",
       "  <tbody>\n",
       "    <tr>\n",
       "      <th>0</th>\n",
       "      <td>189 E 7th St</td>\n",
       "      <td>nan</td>\n",
       "      <td>3300000.00</td>\n",
       "      <td>2015.00</td>\n",
       "      <td>4200.00</td>\n",
       "      <td>1</td>\n",
       "      <td>10009</td>\n",
       "    </tr>\n",
       "    <tr>\n",
       "      <th>1</th>\n",
       "      <td>189 E 7th St</td>\n",
       "      <td>14995.00</td>\n",
       "      <td>4844809.00</td>\n",
       "      <td>2018.00</td>\n",
       "      <td>2183.00</td>\n",
       "      <td>0</td>\n",
       "      <td>10009</td>\n",
       "    </tr>\n",
       "    <tr>\n",
       "      <th>2</th>\n",
       "      <td>189 E 7th St</td>\n",
       "      <td>14995.00</td>\n",
       "      <td>nan</td>\n",
       "      <td>nan</td>\n",
       "      <td>nan</td>\n",
       "      <td>2</td>\n",
       "      <td>10009</td>\n",
       "    </tr>\n",
       "    <tr>\n",
       "      <th>3</th>\n",
       "      <td>526 E 5th St</td>\n",
       "      <td>23000.00</td>\n",
       "      <td>6100000.00</td>\n",
       "      <td>2018.00</td>\n",
       "      <td>5200.00</td>\n",
       "      <td>0</td>\n",
       "      <td>10009</td>\n",
       "    </tr>\n",
       "    <tr>\n",
       "      <th>4</th>\n",
       "      <td>133 Avenue D APT 16</td>\n",
       "      <td>3995.00</td>\n",
       "      <td>nan</td>\n",
       "      <td>nan</td>\n",
       "      <td>nan</td>\n",
       "      <td>2</td>\n",
       "      <td>10009</td>\n",
       "    </tr>\n",
       "  </tbody>\n",
       "</table>\n",
       "</div>"
      ],
      "text/plain": [
       "               address     rent       sold  sold year    sqft  var  zipcode\n",
       "0         189 E 7th St      nan 3300000.00    2015.00 4200.00    1    10009\n",
       "1         189 E 7th St 14995.00 4844809.00    2018.00 2183.00    0    10009\n",
       "2         189 E 7th St 14995.00        nan        nan     nan    2    10009\n",
       "3         526 E 5th St 23000.00 6100000.00    2018.00 5200.00    0    10009\n",
       "4  133 Avenue D APT 16  3995.00        nan        nan     nan    2    10009"
      ]
     },
     "execution_count": 6,
     "metadata": {},
     "output_type": "execute_result"
    }
   ],
   "source": [
    "zillow_df = zillow_df.drop(columns='Unnamed: 0', axis=1) # axis 0 for row and axis 1 for column\n",
    "zillow_df.head()"
   ]
  },
  {
   "cell_type": "code",
   "execution_count": 7,
   "metadata": {},
   "outputs": [],
   "source": [
    "zillow_df = pd.merge(zillow_df, zipcode_df, on=\"zipcode\", how=\"outer\")"
   ]
  },
  {
   "cell_type": "code",
   "execution_count": 8,
   "metadata": {
    "scrolled": true
   },
   "outputs": [
    {
     "data": {
      "text/plain": [
       "address         23736\n",
       "rent            23588\n",
       "sold            13408\n",
       "sold year       13408\n",
       "sqft            13408\n",
       "var             23736\n",
       "zipcode         23737\n",
       "Neighborhood    23604\n",
       "dtype: int64"
      ]
     },
     "execution_count": 8,
     "metadata": {},
     "output_type": "execute_result"
    }
   ],
   "source": [
    "zillow_df.count()"
   ]
  },
  {
   "cell_type": "code",
   "execution_count": 9,
   "metadata": {},
   "outputs": [
    {
     "data": {
      "text/plain": [
       "Index(['Neighborhood', 'rent', 'sold', 'sold year', 'sqft', 'var', 'zipcode'], dtype='object')"
      ]
     },
     "execution_count": 9,
     "metadata": {},
     "output_type": "execute_result"
    }
   ],
   "source": [
    "rent_df = zillow_df.groupby(\"Neighborhood\", as_index=False).median()\n",
    "rent_df.columns"
   ]
  },
  {
   "cell_type": "code",
   "execution_count": 10,
   "metadata": {},
   "outputs": [],
   "source": [
    "rent_df = rent_df.drop(columns=[\"sold\",\"sold year\",\"var\", \"sqft\", \"zipcode\"], axis=1)"
   ]
  },
  {
   "cell_type": "code",
   "execution_count": null,
   "metadata": {
    "scrolled": false
   },
   "outputs": [],
   "source": [
    "rent_df"
   ]
  },
  {
   "cell_type": "code",
   "execution_count": null,
   "metadata": {},
   "outputs": [],
   "source": []
  },
  {
   "cell_type": "code",
   "execution_count": null,
   "metadata": {},
   "outputs": [],
   "source": [
    "zillow_df = zillow_df[zillow_df.loc[:,\"sold year\"] == 2018]"
   ]
  },
  {
   "cell_type": "code",
   "execution_count": null,
   "metadata": {},
   "outputs": [],
   "source": [
    "zillow_df"
   ]
  },
  {
   "cell_type": "code",
   "execution_count": 11,
   "metadata": {},
   "outputs": [],
   "source": [
    "zillow_df = zillow_df.dropna(how=\"any\")"
   ]
  },
  {
   "cell_type": "code",
   "execution_count": 12,
   "metadata": {},
   "outputs": [
    {
     "data": {
      "text/plain": [
       "address         13197\n",
       "rent            13197\n",
       "sold            13197\n",
       "sold year       13197\n",
       "sqft            13197\n",
       "var             13197\n",
       "zipcode         13197\n",
       "Neighborhood    13197\n",
       "dtype: int64"
      ]
     },
     "execution_count": 12,
     "metadata": {},
     "output_type": "execute_result"
    }
   ],
   "source": [
    "zillow_df.count()"
   ]
  },
  {
   "cell_type": "code",
   "execution_count": 13,
   "metadata": {},
   "outputs": [],
   "source": [
    "zillow_df = zillow_df.groupby(\"Neighborhood\", as_index=False).median()"
   ]
  },
  {
   "cell_type": "code",
   "execution_count": 14,
   "metadata": {
    "scrolled": true
   },
   "outputs": [],
   "source": [
    "sold_df = zillow_df[[\"Neighborhood\",\"sold\", \"sqft\"]]"
   ]
  },
  {
   "cell_type": "code",
   "execution_count": 15,
   "metadata": {
    "scrolled": true
   },
   "outputs": [
    {
     "name": "stderr",
     "output_type": "stream",
     "text": [
      "C:\\Users\\yuj\\anaconda\\anaconda3\\envs\\PythonData\\lib\\site-packages\\ipykernel_launcher.py:1: SettingWithCopyWarning: \n",
      "A value is trying to be set on a copy of a slice from a DataFrame.\n",
      "Try using .loc[row_indexer,col_indexer] = value instead\n",
      "\n",
      "See the caveats in the documentation: http://pandas.pydata.org/pandas-docs/stable/indexing.html#indexing-view-versus-copy\n",
      "  \"\"\"Entry point for launching an IPython kernel.\n",
      "C:\\Users\\yuj\\anaconda\\anaconda3\\envs\\PythonData\\lib\\site-packages\\ipykernel_launcher.py:3: SettingWithCopyWarning: \n",
      "A value is trying to be set on a copy of a slice from a DataFrame.\n",
      "Try using .loc[row_indexer,col_indexer] = value instead\n",
      "\n",
      "See the caveats in the documentation: http://pandas.pydata.org/pandas-docs/stable/indexing.html#indexing-view-versus-copy\n",
      "  This is separate from the ipykernel package so we can avoid doing imports until\n",
      "C:\\Users\\yuj\\anaconda\\anaconda3\\envs\\PythonData\\lib\\site-packages\\ipykernel_launcher.py:4: SettingWithCopyWarning: \n",
      "A value is trying to be set on a copy of a slice from a DataFrame.\n",
      "Try using .loc[row_indexer,col_indexer] = value instead\n",
      "\n",
      "See the caveats in the documentation: http://pandas.pydata.org/pandas-docs/stable/indexing.html#indexing-view-versus-copy\n",
      "  after removing the cwd from sys.path.\n"
     ]
    }
   ],
   "source": [
    "sold_df[\"Avg 20% Downpayment\"] = sold_df[\"sold\"]*.2\n",
    "\n",
    "sold_df[\"Avg High Closing Cost\"] = sold_df[\"sold\"]*.05\n",
    "sold_df[\"Avg Property Taxes\"] = sold_df[\"sold\"]*.008\n",
    "avg_property_insurance = 1595\n",
    "\n",
    "year1 = 15 *12\n",
    "year2 = 30 *12\n",
    "interestRate1 = 3.95/100/12\n",
    "interestRate2 = 4.5/100/12\n",
    "\n",
    "sold_df[\"15 Years Monthly Mortgage\"] = (sold_df[\"sold\"] * .8) * (interestRate1 * (1 +interestRate1) \n",
    "                                                                 ** year1) / ((1+interestRate1) ** year1 - 1)\n",
    "sold_df[\"30 Years Monthly Mortgage\"] = (sold_df[\"sold\"] * .8) * (interestRate2 * (1 +interestRate2) \n",
    "                                                                 ** year2) / ((1+interestRate2) ** year2 - 1)\n",
    "#Variable is the maintenance cost\n",
    "\n"
   ]
  },
  {
   "cell_type": "code",
   "execution_count": 16,
   "metadata": {},
   "outputs": [],
   "source": [
    "clean_df = pd.merge(sold_df, rent_df, on=\"Neighborhood\", how=\"outer\")"
   ]
  },
  {
   "cell_type": "code",
   "execution_count": null,
   "metadata": {
    "scrolled": true
   },
   "outputs": [],
   "source": [
    "clean_df"
   ]
  },
  {
   "cell_type": "code",
   "execution_count": 17,
   "metadata": {},
   "outputs": [],
   "source": [
    "clean_df[\"Annual Cap Rate\"] = ((clean_df[\"rent\"]*12-clean_df[\"Avg Property Taxes\"])/\n",
    "                               (clean_df[\"sold\"]+clean_df[\"Avg High Closing Cost\"]))*100\n",
    "clean_df[\"Cash on Cash Return\"] = (((clean_df[\"rent\"]-clean_df[\"30 Years Monthly Mortgage\"])*12)/\n",
    "(clean_df[\"Avg 20% Downpayment\"]+clean_df[\"Avg High Closing Cost\"]))*100\n"
   ]
  },
  {
   "cell_type": "code",
   "execution_count": null,
   "metadata": {},
   "outputs": [],
   "source": [
    "clean_df"
   ]
  },
  {
   "cell_type": "code",
   "execution_count": null,
   "metadata": {},
   "outputs": [],
   "source": [
    "clean_df"
   ]
  },
  {
   "cell_type": "code",
   "execution_count": null,
   "metadata": {
    "scrolled": true
   },
   "outputs": [],
   "source": [
    "clean_df"
   ]
  },
  {
   "cell_type": "code",
   "execution_count": 18,
   "metadata": {},
   "outputs": [
    {
     "data": {
      "image/png": "[encoded data removed]",
      "text/plain": [
       "<Figure size 1440x576 with 1 Axes>"
      ]
     },
     "metadata": {
      "needs_background": "light"
     },
     "output_type": "display_data"
    }
   ],
   "source": [
    "x_axis = np.arange(len(clean_df['Neighborhood']))\n",
    "tick_locations = [value for value in x_axis]\n",
    "plt.figure(figsize=(20,8))\n",
    "\n",
    "bar_width = 0.35\n",
    "\n",
    "plt.bar(x_axis, clean_df['Annual Cap Rate'], bar_width, label=\"Annual Cap Rate\")\n",
    "\n",
    "plt.bar(x_axis+bar_width, clean_df['Cash on Cash Return'], bar_width, label=\"Cash on Cash Return\")\n",
    "\n",
    "plt.xticks(tick_locations, clean_df['Neighborhood'], rotation=\"45\")\n",
    "plt.xlim(-0.75, len(x_axis))\n",
    "\n",
    "plt.hlines(y = 0, xmin = -0.5, xmax = 10)\n",
    "\n",
    "plt.title(\"Cap Rate vs Cash on Cash Return\")\n",
    "plt.xlabel(\"Neighborhood\")\n",
    "plt.ylabel(f\"Rate of Return (%)\")\n",
    "\n",
    "plt.legend()\n",
    "\n",
    "plt.savefig('CapRate_CoCReturn_All.png')\n",
    "plt.show()"
   ]
  },
  {
   "cell_type": "code",
   "execution_count": null,
   "metadata": {},
   "outputs": [],
   "source": [
    "clean_df.to_csv(\"RentvsMortgage.csv\")"
   ]
  },
  {
   "cell_type": "code",
   "execution_count": null,
   "metadata": {},
   "outputs": [],
   "source": [
    "x_axis = np.arange(len(clean_df['Neighborhood']))\n",
    "tick_locations = [value for value in x_axis]\n",
    "plt.figure(figsize=(20,5))\n",
    "\n",
    "bar_width = 0.25\n",
    "\n",
    "plt.bar(x_axis, clean_df['rent'], bar_width, color=\"black\", label=\"Rent\")\n",
    "plt.bar(x_axis+bar_width, clean_df['15 Years Monthly Mortgage'], bar_width, color=\"blue\", label=\"15 Years Monthly Mortgage\")\n",
    "plt.bar(x_axis+bar_width, clean_df['Avg 20% Downpayment']/year1, bar_width, color=\"brown\",\n",
    "        bottom=clean_df['15 Years Monthly Mortgage'], label=\"Avg 20% Downpayment over 15 Years\")\n",
    "plt.bar(x_axis+bar_width, clean_df['Avg Property Taxes'], bar_width, color=\"green\",\n",
    "        bottom=clean_df['Avg 20% Downpayment']/year1+clean_df['15 Years Monthly Mortgage'], label=\"Avg Property Taxes\")\n",
    "\n",
    "plt.bar(x_axis+bar_width*2, clean_df['30 Years Monthly Mortgage'], bar_width, color=\"red\", label=\"30 Years Monthly Mortgage\")\n",
    "plt.bar(x_axis+bar_width*2, clean_df['Avg 20% Downpayment']/year2, bar_width, color=\"brown\",\n",
    "        bottom=clean_df['30 Years Monthly Mortgage'], label=\"Avg 20% Downpayment over 30 Years\")\n",
    "plt.bar(x_axis+bar_width*2, clean_df['Avg Property Taxes'], bar_width, color=\"green\",\n",
    "        bottom=clean_df['Avg 20% Downpayment']/year2+clean_df['30 Years Monthly Mortgage'])\n",
    "\n",
    "plt.xticks(tick_locations, clean_df['Neighborhood'], rotation=\"vertical\")\n",
    "plt.xlim(-0.75, len(x_axis))\n",
    "\n",
    "plt.title(\"Rent vs Purchase\")\n",
    "plt.xlabel(\"Neighborhood\")\n",
    "plt.ylabel(f\"Average Monthly cost ($)\")\n",
    "\n",
    "plt.legend()\n",
    "\n",
    "plt.show()"
   ]
  },
  {
   "cell_type": "code",
   "execution_count": null,
   "metadata": {},
   "outputs": [],
   "source": [
    "clean_df.columns"
   ]
  },
  {
   "cell_type": "code",
   "execution_count": null,
   "metadata": {},
   "outputs": [],
   "source": []
  },
  {
   "cell_type": "code",
   "execution_count": null,
   "metadata": {},
   "outputs": [],
   "source": []
  }
 ],
 "metadata": {
  "kernelspec": {
   "display_name": "Python 3",
   "language": "python",
   "name": "python3"
  },
  "language_info": {
   "codemirror_mode": {
    "name": "ipython",
    "version": 3
   },
   "file_extension": ".py",
   "mimetype": "text/x-python",
   "name": "python",
   "nbconvert_exporter": "python",
   "pygments_lexer": "ipython3",
   "version": "3.6.7"
  }
 },
 "nbformat": 4,
 "nbformat_minor": 2
}
