{
 "cells": [
  {
   "cell_type": "markdown",
   "metadata": {},
   "source": [
    "# STAR PERFORMERS"
   ]
  },
  {
   "cell_type": "code",
   "execution_count": null,
   "metadata": {},
   "outputs": [],
   "source": [
    "# Dependencies and Setup\n",
    "import matplotlib.pyplot as plt\n",
    "import pandas as pd\n",
    "import numpy as np\n",
    "import requests\n",
    "import time\n",
    "from bs4 import BeautifulSoup\n",
    "import xmltodict\n",
    "from pprint import pprint\n",
    "import os\n",
    "import csv\n",
    "from api_keys import z_keys\n"
   ]
  },
  {
   "cell_type": "code",
   "execution_count": null,
   "metadata": {},
   "outputs": [],
   "source": [
    "\n",
    "# #config\n",
    "# from api_keys import api_key\n",
    "# from api_keys import g_Api\n",
    "\n",
    "# # # Import API key\n",
    "# # import api_keys\n",
    "\n",
    "# # Incorporated citipy to determine city based on latitude and longitude\n",
    "# from citipy import citipy\n",
    "\n",
    "# # Output File (CSV)\n",
    "# output_data_file = \"output_data/cities.csv\"\n",
    "\n",
    "# # Range of latitudes and longitudes\n",
    "# lat_range = (-90, 90)\n",
    "# lng_range = (-180, 180)\n",
    "# import openweathermapy.core as owm"
   ]
  },
  {
   "cell_type": "code",
   "execution_count": null,
   "metadata": {},
   "outputs": [],
   "source": [
    "ny18_df = pd.read_excel(\"/Users/JBagga/workspace/project_test/2018NYSales.xls\")"
   ]
  },
  {
   "cell_type": "code",
   "execution_count": null,
   "metadata": {},
   "outputs": [],
   "source": [
    "len(ny18_df)"
   ]
  },
  {
   "cell_type": "code",
   "execution_count": null,
   "metadata": {},
   "outputs": [],
   "source": [
    "ny18_df.describe()"
   ]
  },
  {
   "cell_type": "code",
   "execution_count": null,
   "metadata": {},
   "outputs": [],
   "source": [
    "ny18_df['ADDRESS'] = ny18_df['ADDRESS'].str.split(' ')\n",
    "ny18_df\n"
   ]
  },
  {
   "cell_type": "code",
   "execution_count": null,
   "metadata": {},
   "outputs": [],
   "source": [
    "ny18_df['ADDRESS'] = ny18_df['ADDRESS'].apply(lambda x: '+'.join(x))\n",
    "# # ny18_df['ADDRESS'].str.join('+')\n",
    "# ny18_df['ADDRESS'].str=ny18_df['ADDRESS'].str.replace(', ','+')\n",
    "ny18_df"
   ]
  },
  {
   "cell_type": "code",
   "execution_count": null,
   "metadata": {},
   "outputs": [],
   "source": [
    "# &citystatezip={ny18_Update['ZIP CODE']}\n",
    "\n",
    "ny18_df['combo1'] = ny18_df['ADDRESS'] + \"&citystatezip=\"  \n",
    "# ,ny18_df['ZIP CODE'])\n",
    "ny18_df['combo1']"
   ]
  },
  {
   "cell_type": "code",
   "execution_count": null,
   "metadata": {},
   "outputs": [],
   "source": [
    "ny18_df['ZIP CODE']"
   ]
  },
  {
   "cell_type": "code",
   "execution_count": null,
   "metadata": {},
   "outputs": [],
   "source": [
    "ny18_df['combo2']=ny18_df['combo1']+ny18_df['ZIP CODE'].map(str)\n",
    "ny18_df\n",
    "\n",
    "# ny18_df['ADDRESS'] = ny18_df['ADDRESS'].apply(lambda x: '+'.join(x))"
   ]
  },
  {
   "cell_type": "code",
   "execution_count": null,
   "metadata": {},
   "outputs": [],
   "source": [
    "ny18_df_mod = pd.DataFrame(ny18_df)"
   ]
  },
  {
   "cell_type": "code",
   "execution_count": null,
   "metadata": {},
   "outputs": [],
   "source": [
    "len(ny18_df_mod)"
   ]
  },
  {
   "cell_type": "code",
   "execution_count": null,
   "metadata": {},
   "outputs": [],
   "source": [
    "# Removing home prices less than 100K to avoid a bias after preliminary research on what these lower sale prices rep.\n",
    "# like: Internal family sale transfer at $0, garage sale etc.\n",
    "\n",
    "ny18_Update = ny18_df_mod[ny18_df_mod['SALE PRICE'] > 100000]"
   ]
  },
  {
   "cell_type": "code",
   "execution_count": null,
   "metadata": {},
   "outputs": [],
   "source": [
    "len(ny18_Update)"
   ]
  },
  {
   "cell_type": "code",
   "execution_count": null,
   "metadata": {
    "scrolled": false
   },
   "outputs": [],
   "source": [
    "ny18_Update.head()"
   ]
  },
  {
   "cell_type": "code",
   "execution_count": null,
   "metadata": {},
   "outputs": [],
   "source": [
    "# from urllib.parse import urlparse\n",
    "# ny18_Update['address_combo'] = urlparse.quote_plus(ny18_Update['ADDRESS'])"
   ]
  },
  {
   "cell_type": "code",
   "execution_count": null,
   "metadata": {},
   "outputs": [],
   "source": [
    "# urllib.parse.quote_plus"
   ]
  },
  {
   "cell_type": "code",
   "execution_count": null,
   "metadata": {},
   "outputs": [],
   "source": [
    "response = requests.get(f\"https://www.zillow.com/webservice/GetDeepSearchResults.htm?zws-id={z_keys}&address=635+west+42+street&citystatezip=10036&rentzestimate=true\")"
   ]
  },
  {
   "cell_type": "code",
   "execution_count": null,
   "metadata": {},
   "outputs": [],
   "source": [
    "response.text"
   ]
  },
  {
   "cell_type": "code",
   "execution_count": null,
   "metadata": {},
   "outputs": [],
   "source": [
    "print(response)"
   ]
  },
  {
   "cell_type": "code",
   "execution_count": null,
   "metadata": {},
   "outputs": [],
   "source": [
    "#Using BeautifulSoup to convert XML text to pretty format\n",
    "soup = BeautifulSoup(response.text)\n",
    "print(soup.prettify())\n",
    "# soup.find_all"
   ]
  },
  {
   "cell_type": "code",
   "execution_count": null,
   "metadata": {},
   "outputs": [],
   "source": [
    "# response['results']['result']['zpid']\n",
    "#.keys() GIVES you the Current Level Keys in a Dictionary\n",
    "\n",
    "doc = xmltodict.parse(response.text)['SearchResults:searchresults']['response']['results']['result']\n",
    "# doc.values()\n",
    "len(doc)"
   ]
  },
  {
   "cell_type": "code",
   "execution_count": null,
   "metadata": {},
   "outputs": [],
   "source": [
    "def need_rent_estimate(address):\n",
    "    return (address.get('rentzestimate')) and not(address.get('lastSoldPrice'))"
   ]
  },
  {
   "cell_type": "code",
   "execution_count": null,
   "metadata": {},
   "outputs": [],
   "source": [
    "def need_sale_estimate(address):\n",
    "    return (not(address.get('rentzestimate')) and (address.get('lastSoldPrice')))"
   ]
  },
  {
   "cell_type": "code",
   "execution_count": null,
   "metadata": {},
   "outputs": [],
   "source": [
    "def get_rest_estimate(address):\n",
    "    \n",
    "    rent = address['rentzestimate']['amount']['#text']\n",
    "#     sqft11 = address['finishedSqFt']\n",
    "    address11 = address['address']['street']\n",
    "    zip11=address['address']['zipcode']\n",
    "    var = 2\n",
    "    return pd.Series({'rent':rent, 'address11':address11,'zip11':zip11,'var':var})"
   ]
  },
  {
   "cell_type": "code",
   "execution_count": null,
   "metadata": {},
   "outputs": [],
   "source": [
    "def get_other_rent_estimate(address):\n",
    "    sold = address['lastSoldPrice']['#text']\n",
    "    sold_date=address['lastSoldDate']\n",
    "#     zestimate=address['zestimate']['amount']['#text']\n",
    "#     sqft11 = address['finishedSqFt']\n",
    "    address11 = address['address']['street']\n",
    "    zip11=address['address']['zipcode']\n",
    "    var = 1\n",
    "    return pd.Series({'sold':sold, 'var':var}) "
   ]
  },
  {
   "cell_type": "code",
   "execution_count": null,
   "metadata": {},
   "outputs": [],
   "source": [
    "ny18_Update.columns"
   ]
  },
  {
   "cell_type": "code",
   "execution_count": null,
   "metadata": {},
   "outputs": [],
   "source": [
    "# # block =[]\n",
    "# # lot=[]\n",
    "# # ny_sale_amt =[]\n",
    "# # ny_sale_date=[]\n",
    "# series = []\n",
    "\n",
    "\n",
    "# for row,zipcode in zip(ny18_Update['ADDRESS'],ny18_Update['ZIP CODE']):\n",
    "#     print(row)\n",
    "#     response_main = requests.get(f\"https://www.zillow.com/webservice/GetDeepSearchResults.htm?zws-id={z_keys}&address={row}&citystatezip={zipcode}&rentzestimate=true\")\n",
    "# #     print(response_main)\n",
    "# #     soup = BeautifulSoup(response_main.text)\n",
    "# #     print(soup.prettify())\n",
    "#     block=ny18_Update['BLOCK']\n",
    "#     lot=ny18_Update['LOT']\n",
    "#     sale_amt=ny18_Update['SALE PRICE']\n",
    "#     sale_date=ny18_Update['SALE DATE']\n",
    "                                 \n",
    "#     doc = xmltodict.parse(response_main.text)['SearchResults:searchresults']['response']['results']['result']                             \n",
    "#     time.sleep(.5)\n",
    "#     i=0\n",
    "#     print(len(doc))                             \n",
    "\n",
    "#     while i<len(doc):\n",
    "#         curdoc = doc[i]\n",
    "#         print(curdoc)\n",
    "\n",
    "#         if need_rent_estimate(curdoc):\n",
    "#             new_series = get_rest_estimate(curdoc)\n",
    "\n",
    "#         elif need_sale_estimate(curdoc):\n",
    "#             new_series = get_other_rent_estimate(curdoc)      \n",
    "#         i+=1\n",
    "\n",
    "#         series.append(new_series)\n",
    "\n",
    "#     df = pd.concat(series, 1,sort=True).T"
   ]
  },
  {
   "cell_type": "code",
   "execution_count": null,
   "metadata": {},
   "outputs": [],
   "source": [
    "block =[]\n",
    "lot=[]\n",
    "ny_sale_amt =[]\n",
    "ny_sale_date=[]\n",
    "series = []\n",
    "curdoc={}\n",
    "\n",
    "for row in ny18_Update['combo2']:\n",
    "    try:\n",
    "        print(row)\n",
    "        response_main = requests.get(f\"https://www.zillow.com/webservice/GetDeepSearchResults.htm?zws-id={z_keys}&address={row}&rentzestimate=true\")\n",
    "    #     response_main = requests.get(f\"https://www.zillow.com/webservice/GetDeepSearchResults.htm?zws-id={z_keys}&address={row}&citystatezip={ny18_Update['ZIP CODE']}&rentzestimate=true\")\n",
    "    #     print(response_main)\n",
    "    #     soup = BeautifulSoup(response_main.text)\n",
    "    #     print(soup.prettify())\n",
    "        block=ny18_Update['BLOCK']\n",
    "        lot=ny18_Update['LOT']\n",
    "        sale_amt=ny18_Update['SALE PRICE']\n",
    "        sale_date=ny18_Update['SALE DATE']\n",
    "\n",
    "        doc = xmltodict.parse(response_main.text)['SearchResults:searchresults']['response']['results']['result']   \n",
    "        print(doc)\n",
    "        time.sleep(.1)\n",
    "        i=0\n",
    "\n",
    "\n",
    "        while i < len(doc):\n",
    "            curdoc = doc[i]\n",
    "            print(curdoc)\n",
    "\n",
    "            if need_rent_estimate(curdoc):\n",
    "                new_series = get_rest_estimate(curdoc)\n",
    "\n",
    "            elif need_sale_estimate(curdoc):\n",
    "                new_series = get_other_rent_estimate(curdoc)      \n",
    "            i+=1\n",
    "\n",
    "            series.append(new_series)\n",
    "\n",
    "        df = pd.concat(series, 1,sort=True).T\n",
    "    except KeyError:\n",
    "        print(f'{curdoc}')"
   ]
  },
  {
   "cell_type": "code",
   "execution_count": null,
   "metadata": {},
   "outputs": [],
   "source": [
    "# block =[]\n",
    "# lot=[]\n",
    "# ny_sale_amt =[]\n",
    "# ny_sale_date=[]\n",
    "# series = []\n",
    "\n",
    "\n",
    "# for row in ny18_Update['ADDRESS']:\n",
    "#     print(row)\n",
    "#     response_main = requests.get(f\"https://www.zillow.com/webservice/GetDeepSearchResults.htm?zws-id={z_keys}&address={row}&citystatezip={ny18_Update['ZIP CODE']}&rentzestimate=true\")\n",
    "#     print(response_main)\n",
    "#     soup = BeautifulSoup(response_main.text)\n",
    "#     print(soup.prettify())\n",
    "#     block=ny18_Update['BLOCK']\n",
    "#     lot=ny18_Update['LOT']\n",
    "#     sale_amt=ny18_Update['SALE PRICE']\n",
    "#     sale_date=ny18_Update['SALE DATE']\n",
    "                                 \n",
    "#     doc = xmltodict.parse(response_main.text)['SearchResults:searchresults']['response']['results']['result']                             \n",
    "#     time.sleep(.1)\n",
    "#     i=0\n",
    "                                 \n",
    "\n",
    "#     while i<len(doc):\n",
    "#         curdoc = doc[i]\n",
    "#         print(curdoc)\n",
    "\n",
    "#         if need_rent_estimate(curdoc):\n",
    "#             new_series = get_rest_estimate(curdoc)\n",
    "\n",
    "#         elif need_sale_estimate(curdoc):\n",
    "#             new_series = get_other_rent_estimate(curdoc)      \n",
    "#         i+=1\n",
    "\n",
    "#         series.append(new_series)\n",
    "\n",
    "#     df = pd.concat(series, 1).T"
   ]
  },
  {
   "cell_type": "code",
   "execution_count": null,
   "metadata": {},
   "outputs": [],
   "source": [
    "# xmltodict.parse(response_main.text)['SearchResults:searchresults'].keys()"
   ]
  },
  {
   "cell_type": "code",
   "execution_count": null,
   "metadata": {},
   "outputs": [],
   "source": []
  },
  {
   "cell_type": "code",
   "execution_count": null,
   "metadata": {},
   "outputs": [],
   "source": [
    "# response_main = requests.get(\"https://www.zillow.com/webservice/GetDeepSearchResults.htm?\\\n",
    "# zws-id={z_keys}&address=\\\n",
    "# west+42+street&citystatezip=10036&rentzestimate=true\")"
   ]
  },
  {
   "cell_type": "code",
   "execution_count": null,
   "metadata": {},
   "outputs": [],
   "source": [
    "\n",
    "                                 "
   ]
  }
 ],
 "metadata": {
  "kernelspec": {
   "display_name": "Python 3",
   "language": "python",
   "name": "python3"
  },
  "language_info": {
   "codemirror_mode": {
    "name": "ipython",
    "version": 3
   },
   "file_extension": ".py",
   "mimetype": "text/x-python",
   "name": "python",
   "nbconvert_exporter": "python",
   "pygments_lexer": "ipython3",
   "version": "3.6.7"
  }
 },
 "nbformat": 4,
 "nbformat_minor": 2
}
