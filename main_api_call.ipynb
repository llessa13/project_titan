{
 "cells": [
  {
   "cell_type": "code",
   "execution_count": 14,
   "metadata": {},
   "outputs": [
    {
     "ename": "ModuleNotFoundError",
     "evalue": "No module named 'api_keys'",
     "output_type": "error",
     "traceback": [
      "\u001b[1;31m---------------------------------------------------------------------------\u001b[0m",
      "\u001b[1;31mModuleNotFoundError\u001b[0m                       Traceback (most recent call last)",
      "\u001b[1;32m<ipython-input-14-972fa9aebf81>\u001b[0m in \u001b[0;36m<module>\u001b[1;34m()\u001b[0m\n\u001b[0;32m     11\u001b[0m \u001b[1;32mimport\u001b[0m \u001b[0mcsv\u001b[0m\u001b[1;33m\u001b[0m\u001b[0m\n\u001b[0;32m     12\u001b[0m \u001b[1;32mimport\u001b[0m \u001b[0mdatetime\u001b[0m\u001b[1;33m\u001b[0m\u001b[0m\n\u001b[1;32m---> 13\u001b[1;33m \u001b[1;32mfrom\u001b[0m \u001b[0mapi_keys\u001b[0m \u001b[1;32mimport\u001b[0m \u001b[0ma_keys\u001b[0m\u001b[1;33m\u001b[0m\u001b[0m\n\u001b[0m\u001b[0;32m     14\u001b[0m \u001b[1;32mfrom\u001b[0m \u001b[0mapi_keys\u001b[0m \u001b[1;32mimport\u001b[0m \u001b[0mb_keys\u001b[0m\u001b[1;33m\u001b[0m\u001b[0m\n\u001b[0;32m     15\u001b[0m \u001b[1;32mfrom\u001b[0m \u001b[0mapi_keys\u001b[0m \u001b[1;32mimport\u001b[0m \u001b[0mc_keys\u001b[0m\u001b[1;33m\u001b[0m\u001b[0m\n",
      "\u001b[1;31mModuleNotFoundError\u001b[0m: No module named 'api_keys'"
     ]
    }
   ],
   "source": [
    "# Dependencies and Setup\n",
    "import matplotlib.pyplot as plt\n",
    "import pandas as pd\n",
    "import numpy as np\n",
    "import requests\n",
    "import time\n",
    "import xmltodict\n",
    "import datetime\n",
    "from api_keys import a_keys\n",
    "from api_keys import b_keys \n",
    "from api_keys import c_keys \n",
    "from api_keys import d_keys \n",
    "from api_keys import e_keys \n",
    "from api_keys import f_keys \n",
    "from api_keys import g_keys\n",
    "from api_keys import h_keys\n",
    "from api_keys import i_keys"
   ]
  },
  {
   "cell_type": "code",
   "execution_count": null,
   "metadata": {},
   "outputs": [],
   "source": [
    "# Check if the row returned from Zillow API contains both 'rentzestimate' and 'lastSoldPrice' information\n",
    "def check_data(address):\n",
    "    return (address.get('rentzestimate')) and (address.get('lastSoldPrice'))"
   ]
  },
  {
   "cell_type": "code",
   "execution_count": null,
   "metadata": {},
   "outputs": [],
   "source": [
    "# Check if the row returned from Zillow API contains 'rentzestimate' but 'lastSoldPrice' is blank\n",
    "def need_rent_estimate(address):\n",
    "    return (address.get('rentzestimate')) and not(address.get('lastSoldPrice'))"
   ]
  },
  {
   "cell_type": "code",
   "execution_count": null,
   "metadata": {},
   "outputs": [],
   "source": [
    "# Check if the row returned from Zillow API contains 'lastSoldPrice' but 'rentzestimate' is blank\n",
    "def need_sale_estimate(address):\n",
    "    return (not(address.get('rentzestimate')) and (address.get('lastSoldPrice')))"
   ]
  },
  {
   "cell_type": "code",
   "execution_count": null,
   "metadata": {},
   "outputs": [],
   "source": [
    "# If 'check_data' is true, execute this function to store data from Zillow API\n",
    "def get_estimate(address, zipcode):\n",
    "    print('Entering get_estimate')\n",
    "    rent = address['rentzestimate']['amount']['#text']\n",
    "    sold = address['lastSoldPrice']['#text']\n",
    "    sold_year = datetime.datetime.strptime(address['lastSoldDate'], '%m/%d/%Y').date().year\n",
    "    sqft = address['finishedSqFt']\n",
    "    address = address['address']['street']\n",
    "    var = 0\n",
    "    return pd.Series({'address':address, 'zipcode':zipcode, 'sold':sold, 'rent':rent, 'sold year':sold_year, 'sqft':sqft, 'var':var})     "
   ]
  },
  {
   "cell_type": "code",
   "execution_count": null,
   "metadata": {},
   "outputs": [],
   "source": [
    "# If 'get_rent_estimate' is true, execute this function to store data from Zillow API\n",
    "def get_rent_estimate(address, zipcode):\n",
    "    print('Entering get_rent_estimate')\n",
    "    rent = address['rentzestimate']['amount']['#text']\n",
    "    address = address['address']['street']\n",
    "    var = 2\n",
    "    return pd.Series({'address':address, 'zipcode':zipcode, 'rent':rent, 'var':var})"
   ]
  },
  {
   "cell_type": "code",
   "execution_count": null,
   "metadata": {},
   "outputs": [],
   "source": [
    "# If 'get_property_estimate' is true, execute this function to store data from Zillow API\n",
    "def get_property_estimate(address, zipcode):\n",
    "    print('Entering get_property_estimate')\n",
    "    sold = address['lastSoldPrice']['#text']\n",
    "    sold_year = datetime.datetime.strptime(address['lastSoldDate'], '%m/%d/%Y').date().year\n",
    "    sqft = address['finishedSqFt']\n",
    "    address = address['address']['street']\n",
    "    var = 1\n",
    "    return pd.Series({'address':address, 'zipcode':zipcode, 'sold':sold, 'sold year':sold_year, 'sqft':sqft, 'var':var}) "
   ]
  },
  {
   "cell_type": "code",
   "execution_count": null,
   "metadata": {},
   "outputs": [],
   "source": [
    "# Function to determine which key to use during Zillow API query process. According to doc, there's a limitation of\n",
    "# 1000 calls per key per day\n",
    "def get_key(counter):\n",
    "    if counter <= 999:\n",
    "        key = a_keys\n",
    "    elif counter <= 1998:\n",
    "        key = b_keys\n",
    "    elif counter <= 2997:\n",
    "        key = c_keys\n",
    "    elif counter <= 3996:\n",
    "        key = d_keys\n",
    "    elif counter <= 4995:\n",
    "        key = e_keys\n",
    "    elif counter <= 5994:\n",
    "        key = f_keys\n",
    "    elif counter <= 6993:\n",
    "        key = g_keys\n",
    "    elif counter <= 7992:\n",
    "        key = h_keys\n",
    "    else:\n",
    "        key = i_keys\n",
    "    return key"
   ]
  },
  {
   "cell_type": "code",
   "execution_count": 4,
   "metadata": {},
   "outputs": [],
   "source": [
    "# Read NY Finance Department file\n",
    "ny18_df = pd.read_csv('Files/2018NYSales.csv')\n",
    "\n",
    "# Check the amount of rows\n",
    "len(ny18_df)\n",
    "\n",
    "# Removing leading blank space from specific column\n",
    "ny18_df = ny18_df.rename(columns={' SALE PRICE ': 'SALE PRICE'})"
   ]
  },
  {
   "cell_type": "code",
   "execution_count": 6,
   "metadata": {},
   "outputs": [
    {
     "data": {
      "text/plain": [
       "Index(['BOROUGH', 'NEIGHBORHOOD', 'BUILDING CLASS CATEGORY',\n",
       "       'TAX CLASS AT PRESENT', 'BLOCK', 'LOT', 'EASE-MENT',\n",
       "       'BUILDING CLASS AT PRESENT', 'ADDRESS', 'APARTMENT NUMBER', 'ZIP CODE',\n",
       "       'RESIDENTIAL UNITS', 'COMMERCIAL UNITS', 'TOTAL UNITS',\n",
       "       'LAND SQUARE FEET', 'GROSS SQUARE FEET', 'YEAR BUILT',\n",
       "       'TAX CLASS AT TIME OF SALE', 'BUILDING CLASS AT TIME OF SALE',\n",
       "       'SALE PRICE', 'SALE DATE'],\n",
       "      dtype='object')"
      ]
     },
     "execution_count": 6,
     "metadata": {},
     "output_type": "execute_result"
    }
   ],
   "source": [
    "# Display all columns from file\n",
    "ny18_df.columns"
   ]
  },
  {
   "cell_type": "code",
   "execution_count": 8,
   "metadata": {},
   "outputs": [
    {
     "data": {
      "text/html": [
       "<div>\n",
       "<style scoped>\n",
       "    .dataframe tbody tr th:only-of-type {\n",
       "        vertical-align: middle;\n",
       "    }\n",
       "\n",
       "    .dataframe tbody tr th {\n",
       "        vertical-align: top;\n",
       "    }\n",
       "\n",
       "    .dataframe thead th {\n",
       "        text-align: right;\n",
       "    }\n",
       "</style>\n",
       "<table border=\"1\" class=\"dataframe\">\n",
       "  <thead>\n",
       "    <tr style=\"text-align: right;\">\n",
       "      <th></th>\n",
       "      <th>BOROUGH</th>\n",
       "      <th>BLOCK</th>\n",
       "      <th>LOT</th>\n",
       "      <th>ZIP CODE</th>\n",
       "      <th>RESIDENTIAL UNITS</th>\n",
       "      <th>COMMERCIAL UNITS</th>\n",
       "      <th>TOTAL UNITS</th>\n",
       "      <th>YEAR BUILT</th>\n",
       "      <th>TAX CLASS AT TIME OF SALE</th>\n",
       "    </tr>\n",
       "  </thead>\n",
       "  <tbody>\n",
       "    <tr>\n",
       "      <th>count</th>\n",
       "      <td>16369.0</td>\n",
       "      <td>16369.000000</td>\n",
       "      <td>16369.000000</td>\n",
       "      <td>16369.000000</td>\n",
       "      <td>16369.000000</td>\n",
       "      <td>16369.000000</td>\n",
       "      <td>16369.000000</td>\n",
       "      <td>16369.000000</td>\n",
       "      <td>16369.000000</td>\n",
       "    </tr>\n",
       "    <tr>\n",
       "      <th>mean</th>\n",
       "      <td>1.0</td>\n",
       "      <td>1134.104160</td>\n",
       "      <td>736.368990</td>\n",
       "      <td>10015.058281</td>\n",
       "      <td>1.837681</td>\n",
       "      <td>0.341438</td>\n",
       "      <td>2.305761</td>\n",
       "      <td>1702.245586</td>\n",
       "      <td>2.120716</td>\n",
       "    </tr>\n",
       "    <tr>\n",
       "      <th>std</th>\n",
       "      <td>0.0</td>\n",
       "      <td>526.607997</td>\n",
       "      <td>910.316535</td>\n",
       "      <td>385.473717</td>\n",
       "      <td>13.408085</td>\n",
       "      <td>4.091756</td>\n",
       "      <td>14.379706</td>\n",
       "      <td>652.533099</td>\n",
       "      <td>0.541500</td>\n",
       "    </tr>\n",
       "    <tr>\n",
       "      <th>min</th>\n",
       "      <td>1.0</td>\n",
       "      <td>2.000000</td>\n",
       "      <td>1.000000</td>\n",
       "      <td>0.000000</td>\n",
       "      <td>0.000000</td>\n",
       "      <td>0.000000</td>\n",
       "      <td>0.000000</td>\n",
       "      <td>0.000000</td>\n",
       "      <td>1.000000</td>\n",
       "    </tr>\n",
       "    <tr>\n",
       "      <th>25%</th>\n",
       "      <td>1.0</td>\n",
       "      <td>798.000000</td>\n",
       "      <td>29.000000</td>\n",
       "      <td>10013.000000</td>\n",
       "      <td>0.000000</td>\n",
       "      <td>0.000000</td>\n",
       "      <td>0.000000</td>\n",
       "      <td>1910.000000</td>\n",
       "      <td>2.000000</td>\n",
       "    </tr>\n",
       "    <tr>\n",
       "      <th>50%</th>\n",
       "      <td>1.0</td>\n",
       "      <td>1171.000000</td>\n",
       "      <td>1002.000000</td>\n",
       "      <td>10022.000000</td>\n",
       "      <td>0.000000</td>\n",
       "      <td>0.000000</td>\n",
       "      <td>1.000000</td>\n",
       "      <td>1931.000000</td>\n",
       "      <td>2.000000</td>\n",
       "    </tr>\n",
       "    <tr>\n",
       "      <th>75%</th>\n",
       "      <td>1.0</td>\n",
       "      <td>1469.000000</td>\n",
       "      <td>1185.000000</td>\n",
       "      <td>10028.000000</td>\n",
       "      <td>1.000000</td>\n",
       "      <td>0.000000</td>\n",
       "      <td>1.000000</td>\n",
       "      <td>1973.000000</td>\n",
       "      <td>2.000000</td>\n",
       "    </tr>\n",
       "    <tr>\n",
       "      <th>max</th>\n",
       "      <td>1.0</td>\n",
       "      <td>2250.000000</td>\n",
       "      <td>9101.000000</td>\n",
       "      <td>10463.000000</td>\n",
       "      <td>597.000000</td>\n",
       "      <td>180.000000</td>\n",
       "      <td>601.000000</td>\n",
       "      <td>2018.000000</td>\n",
       "      <td>4.000000</td>\n",
       "    </tr>\n",
       "  </tbody>\n",
       "</table>\n",
       "</div>"
      ],
      "text/plain": [
       "       BOROUGH         BLOCK           LOT      ZIP CODE  RESIDENTIAL UNITS  \\\n",
       "count  16369.0  16369.000000  16369.000000  16369.000000       16369.000000   \n",
       "mean       1.0   1134.104160    736.368990  10015.058281           1.837681   \n",
       "std        0.0    526.607997    910.316535    385.473717          13.408085   \n",
       "min        1.0      2.000000      1.000000      0.000000           0.000000   \n",
       "25%        1.0    798.000000     29.000000  10013.000000           0.000000   \n",
       "50%        1.0   1171.000000   1002.000000  10022.000000           0.000000   \n",
       "75%        1.0   1469.000000   1185.000000  10028.000000           1.000000   \n",
       "max        1.0   2250.000000   9101.000000  10463.000000         597.000000   \n",
       "\n",
       "       COMMERCIAL UNITS   TOTAL UNITS    YEAR BUILT  TAX CLASS AT TIME OF SALE  \n",
       "count      16369.000000  16369.000000  16369.000000               16369.000000  \n",
       "mean           0.341438      2.305761   1702.245586                   2.120716  \n",
       "std            4.091756     14.379706    652.533099                   0.541500  \n",
       "min            0.000000      0.000000      0.000000                   1.000000  \n",
       "25%            0.000000      0.000000   1910.000000                   2.000000  \n",
       "50%            0.000000      1.000000   1931.000000                   2.000000  \n",
       "75%            0.000000      1.000000   1973.000000                   2.000000  \n",
       "max          180.000000    601.000000   2018.000000                   4.000000  "
      ]
     },
     "execution_count": 8,
     "metadata": {},
     "output_type": "execute_result"
    }
   ],
   "source": [
    "# Generate descriptive statistics\n",
    "ny18_df.describe()"
   ]
  },
  {
   "cell_type": "code",
   "execution_count": 12,
   "metadata": {},
   "outputs": [],
   "source": [
    "# Prepare Address data to use into Zillow API\n",
    "ny18_df['ADDRESS'] = ny18_df['ADDRESS'].str.strip()\n",
    "ny18_df['ADDRESS'] = ny18_df['ADDRESS'].str.split(' ').apply(lambda x: '+'.join(x))\n",
    "\n",
    "# Clean Sale Price data\n",
    "ny18_df['SALE PRICE'] = ny18_df.loc[:,'SALE PRICE'].replace('[\\$,]', '', regex=True)\n",
    "ny18_df['SALE PRICE'] = ny18_df.loc[:,'SALE PRICE'].replace('[-,]', '0', regex=True)\n",
    "\n",
    "# Removing home prices less than 100K to avoid a bias after preliminary research on what these lower sale prices rep.\n",
    "# like: Internal family sale transfer at $0, garage sale etc.\n",
    "ny18_df = ny18_df[ny18_df['SALE PRICE'].astype(float) > 100000]\n",
    "\n",
    "# Removing duplicated addresses\n",
    "ny18_df = ny18_df.drop_duplicates(subset=['ADDRESS'], keep = 'first')"
   ]
  },
  {
   "cell_type": "code",
   "execution_count": 13,
   "metadata": {},
   "outputs": [
    {
     "data": {
      "text/plain": [
       "8951"
      ]
     },
     "execution_count": 13,
     "metadata": {},
     "output_type": "execute_result"
    }
   ],
   "source": [
    "# Display unique addresses that will be used into Zillow API\n",
    "len(ny18_df)"
   ]
  },
  {
   "cell_type": "code",
   "execution_count": null,
   "metadata": {},
   "outputs": [],
   "source": [
    "# Variables to be used during Zillow query process\n",
    "series = []\n",
    "curdoc = {}\n",
    "counter = 0\n",
    "\n",
    "# Loop through Address and Zip Code from NY spreadsheet data\n",
    "for address, zipcode in zip(ny18_df['ADDRESS'],ny18_df['ZIP CODE']):\n",
    "    # Count how many records were processed\n",
    "    counter +=1\n",
    "    # Call get_key function to return the API Key we'll use\n",
    "    api_key = get_key(counter)\n",
    "    # Create Zillow API call and return the data\n",
    "    try:\n",
    "       i = 0\n",
    "       print(f\"https://www.zillow.com/webservice/GetDeepSearchResults.htm?zws-id={api_key}&address={address}&citystatezip={zipcode}&rentzestimate=true counter={counter}\")\n",
    "       response_main = requests.get(f\"https://www.zillow.com/webservice/GetDeepSearchResults.htm?zws-id={api_key}&address={address}&citystatezip={zipcode}&rentzestimate=true\")\n",
    "       doc = xmltodict.parse(response_main.text, force_list={'result': True})['SearchResults:searchresults']['response']['results']['result']\n",
    "\n",
    "       # Loop through each element returned from the API call\n",
    "       while i < len(doc):\n",
    "           print(f\"Record {i}: {doc[i]['address']['street']}\")\n",
    "           if check_data(doc[i]):\n",
    "               new_series = get_estimate(doc[i], zipcode)\n",
    "               series.append(new_series)\n",
    "           elif need_rent_estimate(doc[i]):\n",
    "               new_series = get_rent_estimate(doc[i], zipcode)\n",
    "               series.append(new_series)\n",
    "           elif need_sale_estimate(doc[i]):\n",
    "               new_series = get_property_estimate(doc[i], zipcode)\n",
    "               series.append(new_series)\n",
    "           else:\n",
    "               print(\"NO ESTIMATED FUNCTIONS ENTERED!!\")\n",
    "           # Variable we created to determine how many rows were processed into our loop       \n",
    "           i+=1\n",
    "                 \n",
    "           print(f'End of record {i}')\n",
    "           print('-------------------------------\\n')\n",
    "       # Sleep required due to Socket Error even though we didn't reach 1000 calls per API Key     \n",
    "       time.sleep(1)\n",
    "       df = pd.concat(series, 1,sort=True).T\n",
    "    except Exception as e: print(e)"
   ]
  },
  {
   "cell_type": "code",
   "execution_count": null,
   "metadata": {},
   "outputs": [],
   "source": [
    "# Save all data gathered from Zillow API into a csv file\n",
    "df.to_csv(\"OutputData.csv\")"
   ]
  }
 ],
 "metadata": {
  "kernelspec": {
   "display_name": "Python 3",
   "language": "python",
   "name": "python3"
  },
  "language_info": {
   "codemirror_mode": {
    "name": "ipython",
    "version": 3
   },
   "file_extension": ".py",
   "mimetype": "text/x-python",
   "name": "python",
   "nbconvert_exporter": "python",
   "pygments_lexer": "ipython3",
   "version": "3.7.0"
  }
 },
 "nbformat": 4,
 "nbformat_minor": 2
}
